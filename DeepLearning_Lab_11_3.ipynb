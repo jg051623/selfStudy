{
  "nbformat": 4,
  "nbformat_minor": 0,
  "metadata": {
    "colab": {
      "name": "DeepLearning_Lab_11_3.ipynb",
      "provenance": [],
      "authorship_tag": "ABX9TyPHmxw7ECHH5i4nesVnAJH4"
    },
    "kernelspec": {
      "name": "python3",
      "display_name": "Python 3"
    },
    "language_info": {
      "name": "python"
    }
  },
  "cells": [
    {
      "cell_type": "code",
      "execution_count": 1,
      "metadata": {
        "id": "S3-3S5t8jvnt"
      },
      "outputs": [],
      "source": [
        "## tf.keras.Model subclassing"
      ]
    },
    {
      "cell_type": "code",
      "source": [
        "import tensorflow as tf\n",
        "from tensorflow import keras\n",
        "from tensorflow.keras.utils import to_categorical\n",
        "import numpy as np\n",
        "import matplotlib.pyplot as plt\n",
        "import os"
      ],
      "metadata": {
        "id": "2-l1EgHAjy6-"
      },
      "execution_count": 2,
      "outputs": []
    },
    {
      "cell_type": "code",
      "source": [
        "## 1. set hyper parameters\n",
        "lr = 0.001\n",
        "training_epochs = 1\n",
        "batch_size = 100\n",
        "\n",
        "# set checkpoint saving directory\n",
        "cur_dir = os.getcwd()\n",
        "ckpt_dir_name = 'checkpoints'\n",
        "model_dir_name = 'mnist_cnn_seq'\n",
        "\n",
        "checkpoint_dir = os.path.join(cur_dir, ckpt_dir_name, model_dir_name)\n",
        "os.makedirs(checkpoint_dir, exist_ok = True)\n",
        "\n",
        "checkpoint_prefix = os.path.join(checkpoint_dir, model_dir_name)"
      ],
      "metadata": {
        "id": "_H1EeT3oj2m5"
      },
      "execution_count": 3,
      "outputs": []
    },
    {
      "cell_type": "code",
      "source": [
        "# 2. make a data pipelining\n",
        "\n",
        "mnist = keras.datasets.mnist\n",
        "(train_images, train_labels), (test_images, test_labels) = mnist.load_data()"
      ],
      "metadata": {
        "colab": {
          "base_uri": "https://localhost:8080/"
        },
        "id": "LRyjqbIHj4tN",
        "outputId": "d779d8e7-5f45-44ef-a5be-d90b6b88fa59"
      },
      "execution_count": 4,
      "outputs": [
        {
          "output_type": "stream",
          "name": "stdout",
          "text": [
            "Downloading data from https://storage.googleapis.com/tensorflow/tf-keras-datasets/mnist.npz\n",
            "11493376/11490434 [==============================] - 0s 0us/step\n",
            "11501568/11490434 [==============================] - 0s 0us/step\n"
          ]
        }
      ]
    },
    {
      "cell_type": "code",
      "source": [
        "train_images = train_images.astype(np.float32) / 255.\n",
        "test_images = test_images.astype(np.float32) / 255.\n",
        "train_images = np.expand_dims(train_images, axis = -1)  # for 4D shape\n",
        "test_images = np.expand_dims(test_images, axis = -1)  # for 4D shape\n",
        "\n",
        "#one hot encoding\n",
        "train_labels = to_categorical(train_labels, 10)\n",
        "test_labels = to_categorical(test_labels, 10)"
      ],
      "metadata": {
        "id": "Ia7d4qMYj6IB"
      },
      "execution_count": 5,
      "outputs": []
    },
    {
      "cell_type": "code",
      "source": [
        "train_dataset = tf.data.Dataset.from_tensor_slices((train_images, train_labels)).shuffle(buffer_size = 100000).batch(batch_size)\n",
        "test_dataset = tf.data.Dataset.from_tensor_slices((train_images, train_labels)).batch(batch_size)\n",
        "\n",
        "# shuffle : 고정된 buffer_size만큼 epoch 마다 이미지를 섞어서 오버피팅이 줄도록 도와줌"
      ],
      "metadata": {
        "id": "Vy0Pwlduj7iJ"
      },
      "execution_count": 6,
      "outputs": []
    },
    {
      "cell_type": "code",
      "source": [
        "# ## Model Subclassing\n",
        "# - build a fully-customizable model by subclassing tf.keras.Model (functional API보다 더 customizing 자유도 높음)\n",
        "# - Create layers in the __init__ method and set them as attributes of the class instance \n",
        "# - define the forward pass in the call method (__init__ method 내에 저장된 layer들의 입력 연결)"
      ],
      "metadata": {
        "id": "vU_tya_-j8wE"
      },
      "execution_count": 7,
      "outputs": []
    },
    {
      "cell_type": "code",
      "source": [
        "# 3. build a neural network model - Model Subclassing / functionalAPI(Sequential API도 사용 가능)\n",
        "class MNISTModel(tf.keras.Model) :\n",
        "  def __init__(self) :\n",
        "    super(MNISTModel, self).__init__()\n",
        "    self.conv1 = keras.layers.Conv2D(filters = 32, kernel_size = 3, padding = 'SAME', activation = tf.nn.relu)\n",
        "    self.pool1 = keras.layers.MaxPool2D(padding = 'SAME')\n",
        "    self.conv2 = keras.layers.Conv2D(filters = 64, kernel_size = 3, padding = 'SAME', activation = tf.nn.relu)\n",
        "    self.pool2 = keras.layers.MaxPool2D(padding = 'SAME')\n",
        "    self.conv3 = keras.layers.Conv2D(filters = 128, kernel_size = 3, padding = 'SAME', activation = tf.nn.relu)\n",
        "    self.pool3 = keras.layers.MaxPool2D(padding = 'SAME')\n",
        "    self.pool3_flat = keras.layers.Flatten()\n",
        "    self.dense4 = keras.layers.Dense(units=256, activation=tf.nn.relu)\n",
        "    self.drop4 = keras.layers.Dropout(rate=0.4)\n",
        "    self.dense5 = keras.layers.Dense(units = 10)\n",
        "\n",
        "  def call(self,inputs, training=False) :\n",
        "    net = self.conv1(inputs)\n",
        "    net = self.pool1(net)\n",
        "    net = self.conv2(net)\n",
        "    net = self.pool2(net)\n",
        "    net = self.conv3(net)\n",
        "    net = self.pool3(net)\n",
        "    net = self.pool3_flat(net)\n",
        "    net = self.dense4(net)\n",
        "    net = self.drop4(net)\n",
        "    net = self.dense5(net)\n",
        "    return net\n",
        "\n",
        "model = MNISTModel()"
      ],
      "metadata": {
        "id": "CmlGIyn1kXLl"
      },
      "execution_count": 18,
      "outputs": []
    },
    {
      "cell_type": "code",
      "source": [
        "# 4,5 define a loss function & calculate a gradient \n",
        "def loss_fn(model, images, labels) :\n",
        "  logits = model(images, training = True) # Dropout 적용됨\n",
        "  loss = tf.reduce_mean(tf.nn.softmax_cross_entropy_with_logits(logits = logits, labels = labels))\n",
        "  return loss\n",
        "\n",
        "\n",
        "def grad(model, image, labels) :\n",
        "  with tf.GradientTape() as tape :\n",
        "    loss = loss_fn(model, images, labels) \n",
        "  return tape.gradient(loss, model.variables) #loss 를 이 모델에 있는 모든 parameter에 대해서 미분한 값을 구해주세요"
      ],
      "metadata": {
        "id": "2WReNTO1mfyV"
      },
      "execution_count": 19,
      "outputs": []
    },
    {
      "cell_type": "code",
      "source": [
        "# 6. select an optimizer - Adam.. etc\n",
        "# 7. define a metric for model's performance - accuracy etc\n",
        "# 8. (optional) make a checkpoint for saving\n",
        "\n",
        "optimizer = tf.keras.optimizers.Adam(learning_rate = lr)\n",
        "\n",
        "def evaluate(model, images, labels) :\n",
        "  logits = model(images, training=False) # dropout 적용 x\n",
        "  correct_prediction = tf.equal(tf.argmax(logits,1), tf.argmax(labels,1))\n",
        "  accuracy = tf.reduce_mean(tf.cast(correct_prediction, tf.float32))\n",
        "  return accuracy\n",
        "\n",
        "#tf.equal() 함수는 두 값이 동일하면 True, 다르면 False를 반환하는 함수입니다.\n",
        "#tf.cast() 함수는 True/False 형태의 값을 1과 0으로 바꾸어주는 함수입니다.\n",
        "\n",
        "checkpoint = tf.train.Checkpoint(cnn=model)\n"
      ],
      "metadata": {
        "id": "X3-7WnTJm0kG"
      },
      "execution_count": 20,
      "outputs": []
    },
    {
      "cell_type": "code",
      "source": [
        "# 9.  train an validate a neural network model\n",
        "\n",
        "for epoch in range(training_epochs) :\n",
        "  avg_loss = 0\n",
        "  avg_train_acc = 0\n",
        "  avg_test_acc = 0\n",
        "  train_step = 0\n",
        "  test_step = 0\n",
        "\n",
        "  for images, labels in train_dataset :\n",
        "    grads = grad(model, images, labels)\n",
        "    optimizer.apply_gradients(zip(grads, model.variables))\n",
        "    loss = loss_fn(model, images, labels)\n",
        "    acc = evaluate(model, images, labels)\n",
        "    avg_loss = avg_loss + loss\n",
        "    avg_train_acc = avg_train_acc + acc\n",
        "    train_step += 1\n",
        "  \n",
        "  avg_loss = avg_loss / train_step\n",
        "  avg_train_acc = avg_train_acc / train_step\n",
        "\n",
        "  for images, labels in test_dataset:        \n",
        "    acc = evaluate(model, images, labels)\n",
        "    avg_test_acc = avg_test_acc + acc\n",
        "    test_step += 1    \n",
        "  avg_test_acc = avg_test_acc / test_step    \n",
        "\n",
        "  print('Epoch:', '{}'.format(epoch + 1), 'loss =', '{:.8f}'.format(avg_loss), \n",
        "        'train accuracy = ', '{:.4f}'.format(avg_train_acc), \n",
        "        'test accuracy = ', '{:.4f}'.format(avg_test_acc))\n",
        "    \n",
        "  checkpoint.save(file_prefix=checkpoint_prefix) # epoch 한번 끝날때마다 모델 저장\n",
        "\n",
        "print('Learning Finished!')"
      ],
      "metadata": {
        "colab": {
          "base_uri": "https://localhost:8080/"
        },
        "id": "OOn-cXzLmnte",
        "outputId": "6beef5b9-168f-4e72-86ed-70531429f854"
      },
      "execution_count": 21,
      "outputs": [
        {
          "output_type": "stream",
          "name": "stdout",
          "text": [
            "Epoch: 1 loss = 0.18933764 train accuracy =  0.9536 test accuracy =  0.9839\n",
            "Learning Finished!\n"
          ]
        }
      ]
    },
    {
      "cell_type": "code",
      "source": [
        "model.summary()"
      ],
      "metadata": {
        "colab": {
          "base_uri": "https://localhost:8080/"
        },
        "id": "jM-GULtRmpQx",
        "outputId": "763daeaa-81f2-4034-852a-bcd8f8b65517"
      },
      "execution_count": 22,
      "outputs": [
        {
          "output_type": "stream",
          "name": "stdout",
          "text": [
            "Model: \"mnist_model_3\"\n",
            "_________________________________________________________________\n",
            " Layer (type)                Output Shape              Param #   \n",
            "=================================================================\n",
            " conv2d_9 (Conv2D)           multiple                  320       \n",
            "                                                                 \n",
            " max_pooling2d_9 (MaxPooling  multiple                 0         \n",
            " 2D)                                                             \n",
            "                                                                 \n",
            " conv2d_10 (Conv2D)          multiple                  18496     \n",
            "                                                                 \n",
            " max_pooling2d_10 (MaxPoolin  multiple                 0         \n",
            " g2D)                                                            \n",
            "                                                                 \n",
            " conv2d_11 (Conv2D)          multiple                  73856     \n",
            "                                                                 \n",
            " max_pooling2d_11 (MaxPoolin  multiple                 0         \n",
            " g2D)                                                            \n",
            "                                                                 \n",
            " flatten_3 (Flatten)         multiple                  0         \n",
            "                                                                 \n",
            " dense_5 (Dense)             multiple                  524544    \n",
            "                                                                 \n",
            " dropout_3 (Dropout)         multiple                  0         \n",
            "                                                                 \n",
            " dense_6 (Dense)             multiple                  2570      \n",
            "                                                                 \n",
            "=================================================================\n",
            "Total params: 619,786\n",
            "Trainable params: 619,786\n",
            "Non-trainable params: 0\n",
            "_________________________________________________________________\n"
          ]
        }
      ]
    },
    {
      "cell_type": "code",
      "source": [
        "## class method 사용 : model.summary가 train 후부터 볼 수 있음..\n",
        "# CNN 모델을 각각 학습 시킨 후, infenrence 시에 힘을 합치는(?) Ensemble 방법 사용 가능  "
      ],
      "metadata": {
        "id": "QyzqgUOHoEWP"
      },
      "execution_count": 24,
      "outputs": []
    },
    {
      "cell_type": "code",
      "source": [
        ""
      ],
      "metadata": {
        "id": "8EaXy4s8oK5S"
      },
      "execution_count": null,
      "outputs": []
    }
  ]
}