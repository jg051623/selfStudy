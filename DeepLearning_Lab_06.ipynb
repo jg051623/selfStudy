{
  "nbformat": 4,
  "nbformat_minor": 0,
  "metadata": {
    "colab": {
      "name": "DeepLearning_Lab_06.ipynb",
      "provenance": [],
      "authorship_tag": "ABX9TyNICtwOJT0s3pora+rLMI8/"
    },
    "kernelspec": {
      "name": "python3",
      "display_name": "Python 3"
    },
    "language_info": {
      "name": "python"
    }
  },
  "cells": [
    {
      "cell_type": "code",
      "execution_count": 1,
      "metadata": {
        "id": "uWg20cUlxXJy"
      },
      "outputs": [],
      "source": [
        "import tensorflow as tf\n",
        "import numpy as np"
      ]
    },
    {
      "cell_type": "code",
      "source": [
        "x_data = [[1,2,1,1],\n",
        "          [2,1,3,2],\n",
        "          [3,1,3,4],\n",
        "          [4,1,5,5],\n",
        "          [1,7,5,5],\n",
        "          [1,2,5,6],\n",
        "          [1,6,6,6],\n",
        "          [1,7,7,7]]\n",
        "\n",
        "#one hot encoding\n",
        "y_data = [[0,0,1],\n",
        "          [0,0,1],\n",
        "          [0,0,1],\n",
        "          [0,1,0],\n",
        "          [0,1,0],\n",
        "          [0,1,0],\n",
        "          [1,0,0],\n",
        "          [1,0,0]]"
      ],
      "metadata": {
        "id": "NH0GRG7TxaYC"
      },
      "execution_count": 25,
      "outputs": []
    },
    {
      "cell_type": "code",
      "source": [
        "#convert into numpy and float format \n",
        "\n",
        "x_data = np.asarray(x_data,dtype=np.float32)\n",
        "y_data = np.asarray(y_data,dtype=np.float32)\n",
        "\n",
        "nb_classes = 3 #num classes\n",
        "\n",
        "dataset = tf.data.Dataset.from_tensor_slices((x_data,y_data)).batch(len(x_data))"
      ],
      "metadata": {
        "id": "meCC43_OxxwS"
      },
      "execution_count": 26,
      "outputs": []
    },
    {
      "cell_type": "code",
      "source": [
        "# Weights and bias setting\n",
        "W = tf.Variable(tf.random.normal([4,nb_classes]), name = 'weight')\n",
        "b = tf.Variable(tf.random.normal([nb_classes]), name = 'bias')"
      ],
      "metadata": {
        "id": "hVLT_BA_yrKI"
      },
      "execution_count": 27,
      "outputs": []
    },
    {
      "cell_type": "code",
      "source": [
        "print(W,b)"
      ],
      "metadata": {
        "colab": {
          "base_uri": "https://localhost:8080/"
        },
        "id": "ufPwamE0zAJJ",
        "outputId": "20932734-dc4d-42a4-e995-8849af485c3f"
      },
      "execution_count": 28,
      "outputs": [
        {
          "output_type": "stream",
          "name": "stdout",
          "text": [
            "<tf.Variable 'weight:0' shape=(4, 3) dtype=float32, numpy=\n",
            "array([[-2.299928  ,  0.23382339,  0.6433769 ],\n",
            "       [ 0.837943  , -0.21832135,  1.4886992 ],\n",
            "       [-1.7832663 ,  0.6388995 ,  0.14891686],\n",
            "       [-2.2672026 ,  0.42680073,  0.18071367]], dtype=float32)> <tf.Variable 'bias:0' shape=(3,) dtype=float32, numpy=array([ 0.26339096, -0.05497049,  0.18925448], dtype=float32)>\n"
          ]
        }
      ]
    },
    {
      "cell_type": "code",
      "source": [
        "def softmax_fn(features) :\n",
        "  hypothesis = tf.nn.softmax(tf.matmul(features, W) + b)\n",
        "  return hypothesis\n",
        "\n",
        "# cost function : cross-entropy\n",
        "\n",
        "def cost_fn(features,labels) :\n",
        "  hypothesis = softmax_fn(features)\n",
        "  cost = tf.reduce_mean(-tf.reduce_sum(labels * tf.math.log(hypothesis), axis = 1))\n",
        "  return cost\n",
        "\n",
        "def grad(hypothesis, features, labels) :\n",
        "  with tf.GradientTape() as tape :\n",
        "    loss_value = cost_fn(features, labels)\n",
        "  return tape.gradient(loss_value, [W,b])\n",
        "\n",
        "optimizer = tf.keras.optimizers.SGD(learning_rate = 0.01)\n",
        "\n",
        "epochs = 3000\n",
        "\n",
        "for step in range(epochs + 1) :\n",
        "  for features, labels in iter(dataset) :\n",
        "    hypothesis = softmax_fn(features)\n",
        "    grads = grad(hypothesis, features, labels)\n",
        "    optimizer.apply_gradients(grads_and_vars = zip(grads,[W,b]))\n",
        "\n",
        "    if step % 300 == 0 :\n",
        "      print(\"iter: {}, Loss: {:.4f}\".format(step, cost_fn(features, labels)))\n"
      ],
      "metadata": {
        "colab": {
          "base_uri": "https://localhost:8080/"
        },
        "id": "mYN7uGT1zGGC",
        "outputId": "25b854f3-d9b4-46ab-d0d9-89c64fab0f9a"
      },
      "execution_count": 33,
      "outputs": [
        {
          "output_type": "stream",
          "name": "stdout",
          "text": [
            "iter: 0, Loss: 9.6814\n",
            "iter: 300, Loss: 0.7818\n",
            "iter: 600, Loss: 0.6005\n",
            "iter: 900, Loss: 0.5205\n",
            "iter: 1200, Loss: 0.4888\n",
            "iter: 1500, Loss: 0.4674\n",
            "iter: 1800, Loss: 0.4498\n",
            "iter: 2100, Loss: 0.4346\n",
            "iter: 2400, Loss: 0.4212\n",
            "iter: 2700, Loss: 0.4090\n",
            "iter: 3000, Loss: 0.3978\n"
          ]
        }
      ]
    },
    {
      "cell_type": "code",
      "source": [
        ""
      ],
      "metadata": {
        "id": "QeeFDbVi-eq6"
      },
      "execution_count": null,
      "outputs": []
    },
    {
      "cell_type": "code",
      "source": [
        "a = softmax_fn(x_data)\n",
        "\n",
        "print(a)\n",
        "print(tf.argmax(a,1))  # 가설을 통해 예측값\n",
        "print(tf.argmax(y_data, 1))  # 실제 값"
      ],
      "metadata": {
        "colab": {
          "base_uri": "https://localhost:8080/"
        },
        "id": "ArKHNzSQ-ezL",
        "outputId": "5ad3b0b2-69f2-4eaf-a54b-c778c099cf30"
      },
      "execution_count": 35,
      "outputs": [
        {
          "output_type": "stream",
          "name": "stdout",
          "text": [
            "tf.Tensor(\n",
            "[[8.4266253e-03 4.5521971e-02 9.4605136e-01]\n",
            " [8.4934365e-03 2.2409101e-01 7.6741546e-01]\n",
            " [2.2550140e-04 3.5035801e-01 6.4941651e-01]\n",
            " [9.6961747e-05 6.5611547e-01 3.4378761e-01]\n",
            " [5.3901035e-01 4.2130402e-01 3.9685745e-02]\n",
            " [2.7490860e-01 7.2361326e-01 1.4781585e-03]\n",
            " [6.1412019e-01 3.8309959e-01 2.7801534e-03]\n",
            " [7.1604025e-01 2.8349328e-01 4.6643370e-04]], shape=(8, 3), dtype=float32)\n",
            "tf.Tensor([2 2 2 1 0 1 0 0], shape=(8,), dtype=int64)\n",
            "tf.Tensor([2 2 2 1 1 1 0 0], shape=(8,), dtype=int64)\n"
          ]
        }
      ]
    },
    {
      "cell_type": "code",
      "source": [
        "a = np.ones([2,3,4])"
      ],
      "metadata": {
        "id": "V-xgK2Gi3gyV"
      },
      "execution_count": 19,
      "outputs": []
    },
    {
      "cell_type": "code",
      "source": [
        "print(a)"
      ],
      "metadata": {
        "colab": {
          "base_uri": "https://localhost:8080/"
        },
        "id": "eROFEn0o4PNs",
        "outputId": "4130b377-867f-4745-f475-039d47ae6df1"
      },
      "execution_count": 20,
      "outputs": [
        {
          "output_type": "stream",
          "name": "stdout",
          "text": [
            "[[[1. 1. 1. 1.]\n",
            "  [1. 1. 1. 1.]\n",
            "  [1. 1. 1. 1.]]\n",
            "\n",
            " [[1. 1. 1. 1.]\n",
            "  [1. 1. 1. 1.]\n",
            "  [1. 1. 1. 1.]]]\n"
          ]
        }
      ]
    },
    {
      "cell_type": "code",
      "source": [
        "np.array([[[1,2,3],[4,5,6]]]).shape"
      ],
      "metadata": {
        "colab": {
          "base_uri": "https://localhost:8080/"
        },
        "id": "dVd9J87G4S76",
        "outputId": "9ba57a3e-00af-41cd-8d80-54434663c7eb"
      },
      "execution_count": 23,
      "outputs": [
        {
          "output_type": "execute_result",
          "data": {
            "text/plain": [
              "(1, 2, 3)"
            ]
          },
          "metadata": {},
          "execution_count": 23
        }
      ]
    },
    {
      "cell_type": "code",
      "source": [
        ""
      ],
      "metadata": {
        "id": "CdvwxLgD6Dqg"
      },
      "execution_count": null,
      "outputs": []
    }
  ]
}