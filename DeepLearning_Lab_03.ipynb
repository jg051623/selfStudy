{
  "nbformat": 4,
  "nbformat_minor": 0,
  "metadata": {
    "colab": {
      "name": "DeepLearning_Lab_03.ipynb",
      "provenance": [],
      "authorship_tag": "ABX9TyNZrod1VvmUelQvsalMkH/E",
      "include_colab_link": true
    },
    "kernelspec": {
      "name": "python3",
      "display_name": "Python 3"
    },
    "language_info": {
      "name": "python"
    }
  },
  "cells": [
    {
      "cell_type": "markdown",
      "metadata": {
        "id": "view-in-github",
        "colab_type": "text"
      },
      "source": [
        "<a href=\"https://colab.research.google.com/github/jg051623/selfStudy/blob/main/DeepLearning_Lab_03.ipynb\" target=\"_parent\"><img src=\"https://colab.research.google.com/assets/colab-badge.svg\" alt=\"Open In Colab\"/></a>"
      ]
    },
    {
      "cell_type": "code",
      "execution_count": 2,
      "metadata": {
        "id": "rhGVvhuAcHfg"
      },
      "outputs": [],
      "source": [
        "import tensorflow as tf\n",
        "import numpy as np"
      ]
    },
    {
      "cell_type": "code",
      "source": [
        "## Numpy \n",
        "\n",
        "X = np.array([1,2,3])\n",
        "Y = np.array([1,2,3])\n",
        "\n",
        "\n",
        "def cost_func(W,X,Y) :\n",
        "  c = 0\n",
        "  for i in range(len(X)) :\n",
        "    c += (W * X[i] - Y[i]) ** 2\n",
        "  return c / len(X)\n",
        "\n",
        "for feed_W in np.linspace(-3, 5, num=15) :\n",
        "  curr_cost = cost_func(feed_W, X, Y)\n",
        "  print(\"{:6.3f}  |  {:10.5f}\".format(feed_W, curr_cost))\n",
        "\n",
        "# W의 변화에 따라 cost(W)가 어떻게 변하는지 확인\n",
        "# np.linspace(start,stop, num=)  start : 시작점, stop : 끝점, num : 구간 내 숫자 개수"
      ],
      "metadata": {
        "colab": {
          "base_uri": "https://localhost:8080/"
        },
        "id": "XBugEOJ8cQZb",
        "outputId": "ee8dfd1a-06b4-4aa2-e2d1-e12029f41160"
      },
      "execution_count": 6,
      "outputs": [
        {
          "output_type": "stream",
          "name": "stdout",
          "text": [
            "-3.000  |    74.66667\n",
            "-2.429  |    54.85714\n",
            "-1.857  |    38.09524\n",
            "-1.286  |    24.38095\n",
            "-0.714  |    13.71429\n",
            "-0.143  |     6.09524\n",
            " 0.429  |     1.52381\n",
            " 1.000  |     0.00000\n",
            " 1.571  |     1.52381\n",
            " 2.143  |     6.09524\n",
            " 2.714  |    13.71429\n",
            " 3.286  |    24.38095\n",
            " 3.857  |    38.09524\n",
            " 4.429  |    54.85714\n",
            " 5.000  |    74.66667\n"
          ]
        }
      ]
    },
    {
      "cell_type": "code",
      "source": [
        "## Tensorflow\n",
        "\n",
        "X = np.array([1,2,3])\n",
        "Y = np.array([1,2,3])\n",
        "\n",
        "def cost_func(W, X, Y) :\n",
        "  hypothesis = X * W\n",
        "  return tf.reduce_mean(tf.square(hypothesis - Y))\n",
        "  \n",
        "for feed_W in np.linspace(-3, 5, num=15) :\n",
        "  curr_cost = cost_func(feed_W, X, Y)\n",
        "  #cost_values.append(curr_cost)\n",
        "  print(\"{:6.3f}  |  {:10.5f}\".format(feed_W, curr_cost))"
      ],
      "metadata": {
        "colab": {
          "base_uri": "https://localhost:8080/"
        },
        "id": "WghQ28ngc17B",
        "outputId": "2e75f55e-7781-46c8-f7de-e737dbee2caf"
      },
      "execution_count": 9,
      "outputs": [
        {
          "output_type": "stream",
          "name": "stdout",
          "text": [
            "-3.000  |    74.66667\n",
            "-2.429  |    54.85714\n",
            "-1.857  |    38.09524\n",
            "-1.286  |    24.38095\n",
            "-0.714  |    13.71429\n",
            "-0.143  |     6.09524\n",
            " 0.429  |     1.52381\n",
            " 1.000  |     0.00000\n",
            " 1.571  |     1.52381\n",
            " 2.143  |     6.09524\n",
            " 2.714  |    13.71429\n",
            " 3.286  |    24.38095\n",
            " 3.857  |    38.09524\n",
            " 4.429  |    54.85714\n",
            " 5.000  |    74.66667\n"
          ]
        }
      ]
    },
    {
      "cell_type": "code",
      "source": [
        "## Gradient descent\n",
        "\n",
        "alpha = 0.01\n",
        "gradient = tf.reduce_mean(tf.multiply(tf.multiply(W, X)-Y,X))\n",
        "descent = W - tf.multiply(alpha, gradient)\n",
        "\n",
        "W.assign(descent)"
      ],
      "metadata": {
        "id": "ao__FMRYe8yn"
      },
      "execution_count": null,
      "outputs": []
    },
    {
      "cell_type": "code",
      "source": [
        "tf.random.set_seed(0)\n",
        "\n",
        "x_data = [1., 2., 3., 4.]\n",
        "y_data = [1., 3., 5., 7.]\n",
        "\n",
        "W = tf.Variable([5.0])\n",
        "\n",
        "for step in range(301) :\n",
        "  hypothesis = W * x_data\n",
        "  cost = tf.reduce_mean(tf.square(hypothesis - y_data))\n",
        "\n",
        "  alpha = 0.01\n",
        "  gradient = tf.reduce_mean(tf.multiply(tf.multiply(W,x_data) - y_data, x_data))\n",
        "  descent = W - tf.multiply(alpha,gradient)\n",
        "  W.assign(descent)\n",
        "\n",
        "  if step % 10 == 0 :\n",
        "    print(\"{:5} | {:10.4f} | {:10.6f}\".format(step, cost.numpy(), W.numpy()[0]))\n",
        "\n"
      ],
      "metadata": {
        "colab": {
          "base_uri": "https://localhost:8080/"
        },
        "id": "owSF0jzMfU2b",
        "outputId": "36c4cf57-8f9d-4b01-ae1d-cd136a1ccb36"
      },
      "execution_count": 18,
      "outputs": [
        {
          "output_type": "stream",
          "name": "stdout",
          "text": [
            "    0 |    83.5000 |   4.750000\n",
            "   10 |    17.6915 |   3.080629\n",
            "   20 |     3.8521 |   2.315085\n",
            "   30 |     0.9417 |   1.964020\n",
            "   40 |     0.3297 |   1.803027\n",
            "   50 |     0.2009 |   1.729199\n",
            "   60 |     0.1739 |   1.695343\n",
            "   70 |     0.1682 |   1.679817\n",
            "   80 |     0.1670 |   1.672697\n",
            "   90 |     0.1667 |   1.669432\n",
            "  100 |     0.1667 |   1.667935\n",
            "  110 |     0.1667 |   1.667248\n",
            "  120 |     0.1667 |   1.666933\n",
            "  130 |     0.1667 |   1.666789\n",
            "  140 |     0.1667 |   1.666723\n",
            "  150 |     0.1667 |   1.666692\n",
            "  160 |     0.1667 |   1.666678\n",
            "  170 |     0.1667 |   1.666672\n",
            "  180 |     0.1667 |   1.666669\n",
            "  190 |     0.1667 |   1.666668\n",
            "  200 |     0.1667 |   1.666667\n",
            "  210 |     0.1667 |   1.666667\n",
            "  220 |     0.1667 |   1.666667\n",
            "  230 |     0.1667 |   1.666667\n",
            "  240 |     0.1667 |   1.666667\n",
            "  250 |     0.1667 |   1.666667\n",
            "  260 |     0.1667 |   1.666667\n",
            "  270 |     0.1667 |   1.666667\n",
            "  280 |     0.1667 |   1.666667\n",
            "  290 |     0.1667 |   1.666667\n",
            "  300 |     0.1667 |   1.666667\n"
          ]
        }
      ]
    }
  ]
}