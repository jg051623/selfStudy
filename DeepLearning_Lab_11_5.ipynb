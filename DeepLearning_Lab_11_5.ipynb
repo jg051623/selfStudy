{
  "nbformat": 4,
  "nbformat_minor": 0,
  "metadata": {
    "colab": {
      "name": "DeepLearning_Lab_11_5.ipynb",
      "provenance": [],
      "collapsed_sections": [],
      "authorship_tag": "ABX9TyO97OC/kmcXhGlQwcxMBuaW"
    },
    "kernelspec": {
      "name": "python3",
      "display_name": "Python 3"
    },
    "language_info": {
      "name": "python"
    }
  },
  "cells": [
    {
      "cell_type": "code",
      "execution_count": 1,
      "metadata": {
        "id": "TmiK2Eb5uRdd"
      },
      "outputs": [],
      "source": [
        "## Best CNN Model "
      ]
    },
    {
      "cell_type": "code",
      "source": [
        "## Data augmentation 방법 추가!!"
      ],
      "metadata": {
        "id": "4rQxwAI-uq2Y"
      },
      "execution_count": 2,
      "outputs": []
    },
    {
      "cell_type": "code",
      "source": [
        "import tensorflow as tf\n",
        "from tensorflow import keras\n",
        "from tensorflow.keras.utils import to_categorical\n",
        "import numpy as np\n",
        "import matplotlib.pyplot as plt\n",
        "import os\n",
        "from scipy import ndimage\n"
      ],
      "metadata": {
        "id": "4dBU9rn_unUp"
      },
      "execution_count": 4,
      "outputs": []
    },
    {
      "cell_type": "code",
      "source": [
        "## 1. set hyper parameters\n",
        "learning_rate = 0.001\n",
        "training_epochs = 15\n",
        "batch_size = 100\n",
        "\n",
        "# set checkpoint saving directory\n",
        "cur_dir = os.getcwd()\n",
        "ckpt_dir_name = 'checkpoints'\n",
        "model_dir_name = 'mnist_cnn_seq'\n",
        "\n",
        "checkpoint_dir = os.path.join(cur_dir, ckpt_dir_name, model_dir_name)\n",
        "os.makedirs(checkpoint_dir, exist_ok = True)\n",
        "\n",
        "checkpoint_prefix = os.path.join(checkpoint_dir, model_dir_name)"
      ],
      "metadata": {
        "id": "WtSnGaeJuz2L"
      },
      "execution_count": 50,
      "outputs": []
    },
    {
      "cell_type": "code",
      "source": [
        "## 2. Data augmentataion - rotate & shift\n",
        "def data_augmentation(images, labels):\n",
        "    aug_images = []\n",
        "    aug_labels = []    \n",
        "    \n",
        "    for x, y in zip(images, labels):        \n",
        "        aug_images.append(x)\n",
        "        aug_labels.append(y)        \n",
        "        \n",
        "        bg_value = np.median(x)\n",
        "        \n",
        "        for _ in range(4):\n",
        "            angle = np.random.randint(-15, 15, 1)            \n",
        "            rot_img = ndimage.rotate(x, angle[0], reshape=False, cval=bg_value)\n",
        "            \n",
        "            shift = np.random.randint(-2, 2, 2)\n",
        "            shift_img = ndimage.shift(rot_img, shift, cval=bg_value)\n",
        "            # -2,2 사이 숫자 2개 뽑아서 하나는 세로방향, 하나는 가로방향만큼 shift       \n",
        "            \n",
        "            aug_images.append(shift_img)\n",
        "            aug_labels.append(y)\n",
        "    aug_images = np.array(aug_images)\n",
        "    aug_labels = np.array(aug_labels)\n",
        "    return aug_images, aug_labels"
      ],
      "metadata": {
        "id": "YJmMYaxyu4V-"
      },
      "execution_count": 9,
      "outputs": []
    },
    {
      "cell_type": "code",
      "source": [
        "# 3. make a data pipelining\n",
        "\n",
        "mnist = keras.datasets.mnist\n",
        "(train_images, train_labels), (test_images, test_labels) = mnist.load_data()\n",
        "\n",
        "train_images, train_labels = data_augmentation(train_images, train_labels)\n",
        "\n",
        "train_images = train_images.astype(np.float32) / 255.\n",
        "test_images = test_images.astype(np.float32) / 255.\n",
        "train_images = np.expand_dims(train_images, axis = -1)  # for 4D shape\n",
        "test_images = np.expand_dims(test_images, axis = -1)  # for 4D shape\n",
        "\n",
        "#one hot encoding\n",
        "train_labels = to_categorical(train_labels, 10)\n",
        "test_labels = to_categorical(test_labels, 10)\n",
        "\n",
        "train_dataset = tf.data.Dataset.from_tensor_slices((train_images, train_labels)).shuffle(buffer_size = 500000).batch(batch_size)\n",
        "test_dataset = tf.data.Dataset.from_tensor_slices((train_images, train_labels)).batch(batch_size)\n",
        "\n",
        "# shuffle : 고정된 buffer_size만큼 epoch 마다 이미지를 섞어서 오버피팅이 줄도록 도와줌"
      ],
      "metadata": {
        "id": "4cfJQk5_ywNf"
      },
      "execution_count": 10,
      "outputs": []
    },
    {
      "cell_type": "code",
      "source": [
        "# aa = train_images[0]"
      ],
      "metadata": {
        "id": "wC_aEQaE1PZP"
      },
      "execution_count": 22,
      "outputs": []
    },
    {
      "cell_type": "code",
      "source": [
        "# bb = aa.reshape([28,28])"
      ],
      "metadata": {
        "id": "CmOdBl7S2LG0"
      },
      "execution_count": 24,
      "outputs": []
    },
    {
      "cell_type": "code",
      "source": [
        "# plt.imshow(bb)\n",
        "# plt.show()"
      ],
      "metadata": {
        "colab": {
          "base_uri": "https://localhost:8080/",
          "height": 265
        },
        "id": "KP-vXJWQ2Lfa",
        "outputId": "b385664b-517e-4e58-d5f6-5b56f8db8614"
      },
      "execution_count": 27,
      "outputs": [
        {
          "output_type": "display_data",
          "data": {
            "text/plain": [
              "<Figure size 432x288 with 1 Axes>"
            ],
            "image/png": "[encoded data removed]"
          },
          "metadata": {
            "needs_background": "light"
          }
        }
      ]
    },
    {
      "cell_type": "code",
      "source": [
        "# shift = np.random.randint(-2, 2, 2)\n",
        "# bg = np.median(bb)\n",
        "# cc = ndimage.shift(bb, shift, cval=bg)\n",
        "# plt.imshow(cc)\n",
        "# plt.show()"
      ],
      "metadata": {
        "colab": {
          "base_uri": "https://localhost:8080/",
          "height": 265
        },
        "id": "p3blGRNy2QVz",
        "outputId": "ac2838ec-1d9b-4f3c-f600-bad8c4ce2184"
      },
      "execution_count": 28,
      "outputs": [
        {
          "output_type": "display_data",
          "data": {
            "text/plain": [
              "<Figure size 432x288 with 1 Axes>"
            ],
            "image/png": "[encoded data removed]"
          },
          "metadata": {
            "needs_background": "light"
          }
        }
      ]
    },
    {
      "cell_type": "code",
      "source": [
        "print(train_images.shape, train_labels.shape)"
      ],
      "metadata": {
        "colab": {
          "base_uri": "https://localhost:8080/"
        },
        "id": "97a3HUfs3Ghu",
        "outputId": "a4bfe2ec-81d0-4f8d-f153-f9c8d0e25bf4"
      },
      "execution_count": 31,
      "outputs": [
        {
          "output_type": "stream",
          "name": "stdout",
          "text": [
            "(300000, 28, 28, 1) (300000, 10)\n"
          ]
        }
      ]
    },
    {
      "cell_type": "code",
      "source": [
        "## 4. build a neural network model\n",
        "class ConvBNRelu(tf.keras.Model) :\n",
        "  def __init__(self, filters, kernel_size = 3, strides = 1, padding = 'SAME') :\n",
        "    super(ConvBNRelu, self).__init__()\n",
        "    self.conv = keras.layers.Conv2D(filters = filters, kernel_size = kernel_size,\n",
        "                                    strides = strides, padding = padding, \n",
        "                                    kernel_initializer = 'glorot_normal')\n",
        "    self.batchnorm = tf.keras.layers.BatchNormalization()\n",
        "\n",
        "  def call(self, inputs, training=False) :\n",
        "    layer = self.conv(inputs)\n",
        "    layer = self.batchnorm(layer)\n",
        "    layer = tf.nn.relu(layer)\n",
        "    return layer"
      ],
      "metadata": {
        "id": "bdUK6V1y3XS1"
      },
      "execution_count": 41,
      "outputs": []
    },
    {
      "cell_type": "code",
      "source": [
        "class DenseBNRelu(tf.keras.Model) :\n",
        "  def __init__(self, units) :\n",
        "    super(DenseBNRelu, self).__init__()\n",
        "    self.dense = keras.layers.Dense(units = units,\n",
        "                                    kernel_initializer = 'glorot_normal')\n",
        "    self.batchnorm = tf.keras.layers.BatchNormalization()\n",
        "\n",
        "  def call(self, inputs, training=False) :\n",
        "    layer = self.dense(inputs)\n",
        "    layer = self.batchnorm(layer)\n",
        "    layer = tf.nn.relu(layer)\n",
        "    return layer"
      ],
      "metadata": {
        "id": "c0fiMm634ntT"
      },
      "execution_count": 42,
      "outputs": []
    },
    {
      "cell_type": "code",
      "source": [
        "class MNISTModel(tf.keras.Model):\n",
        "    def __init__(self):\n",
        "        super(MNISTModel, self).__init__()\n",
        "        self.conv1 = ConvBNRelu(filters=32, kernel_size=[3, 3], padding='SAME')        \n",
        "        self.pool1 = keras.layers.MaxPool2D(padding='SAME')\n",
        "        self.conv2 = ConvBNRelu(filters=64, kernel_size=[3, 3], padding='SAME')\n",
        "        self.pool2 = keras.layers.MaxPool2D(padding='SAME')\n",
        "        self.conv3 = ConvBNRelu(filters=128, kernel_size=[3, 3], padding='SAME')\n",
        "        self.pool3 = keras.layers.MaxPool2D(padding='SAME')\n",
        "        self.pool3_flat = keras.layers.Flatten()\n",
        "        self.dense4 = DenseBNRelu(units=256)\n",
        "        self.drop4 = keras.layers.Dropout(rate=0.4)\n",
        "        self.dense5 = keras.layers.Dense(units=10, kernel_initializer='glorot_normal')\n",
        "    def call(self, inputs, training=False):\n",
        "        net = self.conv1(inputs)        \n",
        "        net = self.pool1(net)\n",
        "        net = self.conv2(net)\n",
        "        net = self.pool2(net)\n",
        "        net = self.conv3(net)\n",
        "        net = self.pool3(net)\n",
        "        net = self.pool3_flat(net)\n",
        "        net = self.dense4(net)\n",
        "        net = self.drop4(net)\n",
        "        net = self.dense5(net)\n",
        "        return net"
      ],
      "metadata": {
        "id": "Iro9eMCz5RR5"
      },
      "execution_count": 43,
      "outputs": []
    },
    {
      "cell_type": "code",
      "source": [
        "models = []\n",
        "num_models = 5\n",
        "for m in range(num_models) :\n",
        "  models.append(MNISTModel())"
      ],
      "metadata": {
        "id": "J3dnGTQg5fUv"
      },
      "execution_count": 44,
      "outputs": []
    },
    {
      "cell_type": "code",
      "source": [
        "# 4,5 define a loss function & calculate a gradient \n",
        "def loss_fn(model, images, labels) :\n",
        "  logits = model(images, training = True) # Dropout 적용됨\n",
        "  loss = tf.reduce_mean(tf.nn.softmax_cross_entropy_with_logits(logits = logits, labels = labels))\n",
        "  return loss\n",
        "\n",
        "\n",
        "def grad(model, image, labels) :\n",
        "  with tf.GradientTape() as tape :\n",
        "    loss = loss_fn(model, images, labels) \n",
        "  return tape.gradient(loss, model.variables) #loss 를 이 모델에 있는 모든 parameter에 대해서 미분한 값을 구해주세요"
      ],
      "metadata": {
        "id": "yjwIVyJN5mi5"
      },
      "execution_count": 45,
      "outputs": []
    },
    {
      "cell_type": "code",
      "source": [
        "########## 변화가 있는 부분  \n",
        "# 6. select an optimizer - Adam.. etc\n",
        "# 7. define a metric for model's performance - accuracy etc\n",
        "# 8. (optional) make a checkpoint for saving\n",
        "\n",
        "def evaluate(models, images, labels):\n",
        "    predictions = np.zeros_like(labels)\n",
        "    for model in models:\n",
        "        logits = model(images, training=False)\n",
        "        predictions += logits\n",
        "    correct_prediction = tf.equal(tf.argmax(predictions, 1), tf.argmax(labels, 1))\n",
        "    accuracy = tf.reduce_mean(tf.cast(correct_prediction, tf.float32))\n",
        "    return accuracy\n",
        "\n",
        "# learning rate decay\n",
        "lr_decay = tf.keras.optimizers.schedules.ExponentialDecay(learning_rate,\n",
        "                                                          train_images.shape[0]/batch_size*num_models*5,\n",
        "                                                          0.5, staircase=True)\n",
        "# 전체 train image 개수 / batch_size*num_models*5  : 5 epoch 의미   / 앙상블 모델이므로 전체 트레인 데이터 수 / batch_size*모델 수 를 해야 1 epoch\n",
        "# 5 epoch 후 learning rate * 0.5 \n",
        "optimizer = tf.keras.optimizers.Adam(learning_rate=lr_decay)"
      ],
      "metadata": {
        "id": "tPtN5Tg36BaK"
      },
      "execution_count": 51,
      "outputs": []
    },
    {
      "cell_type": "code",
      "source": [
        "checkpoints = []\n",
        "for m in range(num_models):\n",
        "    checkpoints.append(tf.train.Checkpoint(cnn=models[m]))"
      ],
      "metadata": {
        "id": "g7Si__Zb6ae-"
      },
      "execution_count": 52,
      "outputs": []
    },
    {
      "cell_type": "code",
      "source": [
        "# 변경 O\n",
        "# 9.  train an validate a neural network model\n",
        "\n",
        "for epoch in range(training_epochs) :\n",
        "  avg_loss = 0\n",
        "  avg_train_acc = 0\n",
        "  avg_test_acc = 0\n",
        "  train_step = 0\n",
        "  test_step = 0\n",
        "\n",
        "  for images, labels in train_dataset :\n",
        "    for model in models :\n",
        "      grads = grad(model, images, labels)\n",
        "      optimizer.apply_gradients(zip(grads, model.variables))\n",
        "      loss = loss_fn(model, images, labels)\n",
        "      avg_loss += loss/num_models   # 1/3(a+b) = 1/3*a + 1/3*b\n",
        "    acc = evaluate(models, images, labels)\n",
        "    avg_train_acc = avg_train_acc + acc\n",
        "    train_step += 1\n",
        "  \n",
        "  avg_loss = avg_loss / train_step\n",
        "  avg_train_acc = avg_train_acc / train_step\n",
        "  \n",
        "  for images, labels in test_dataset:\n",
        "    acc = evaluate(models, images, labels)        \n",
        "    avg_test_acc += acc\n",
        "    test_step += 1    \n",
        "  avg_test_acc = avg_test_acc / test_step   \n",
        "\n",
        "  print('Epoch:', '{}'.format(epoch + 1), 'loss =', '{:.8f}'.format(avg_loss), \n",
        "        'train accuracy = ', '{:.4f}'.format(avg_train_acc), \n",
        "        'test accuracy = ', '{:.4f}'.format(avg_test_acc))\n",
        "    \n",
        "  for idx, checkpoint in enumerate(checkpoints) :\n",
        "    checkpoint.save(file_prefix=checkpoint_prefix+'-{}'.format(idx)) # epoch 한번 끝날때마다 모델 저장\n",
        "\n",
        "print('Learning Finished!')"
      ],
      "metadata": {
        "id": "5UoYrErV6mli"
      },
      "execution_count": null,
      "outputs": []
    }
  ]
}