{
  "nbformat": 4,
  "nbformat_minor": 0,
  "metadata": {
    "colab": {
      "name": "DeepLearning_Lab_06-2.ipynb",
      "provenance": [],
      "authorship_tag": "ABX9TyMsAZKW7XaEKHPUO3mfo0zg"
    },
    "kernelspec": {
      "name": "python3",
      "display_name": "Python 3"
    },
    "language_info": {
      "name": "python"
    }
  },
  "cells": [
    {
      "cell_type": "code",
      "execution_count": null,
      "metadata": {
        "id": "SI__Z8lBCFBT"
      },
      "outputs": [],
      "source": [
        "# logits = tf.matmul(X,W) + b\n",
        "# hypothesis = tf.nn.softmax(logits)\n",
        "\n",
        "# tf.nn.softmax_cross_entropy_with_logits_v2(logits = logits, labels = labels)  : logits 값을 input으로 받음\n"
      ]
    },
    {
      "cell_type": "code",
      "source": [
        "import tensorflow as tf\n",
        "import numpy as np"
      ],
      "metadata": {
        "id": "adJwlQj4EzFf"
      },
      "execution_count": 2,
      "outputs": []
    },
    {
      "cell_type": "code",
      "source": [
        "xy = np.loadtxt('/content/drive/MyDrive/data-04-zoo.csv', delimiter = ',', dtype = np.float32)"
      ],
      "metadata": {
        "id": "9cqtjf-cFGcU"
      },
      "execution_count": 93,
      "outputs": []
    },
    {
      "cell_type": "code",
      "source": [
        "print(xy)\n",
        "xy.shape"
      ],
      "metadata": {
        "colab": {
          "base_uri": "https://localhost:8080/"
        },
        "id": "-ikwVUdaFNbd",
        "outputId": "2a052e91-44c6-41b1-cb5c-d27d13c3dd3e"
      },
      "execution_count": 94,
      "outputs": [
        {
          "output_type": "stream",
          "name": "stdout",
          "text": [
            "[[1. 0. 0. ... 0. 1. 0.]\n",
            " [1. 0. 0. ... 0. 1. 0.]\n",
            " [0. 0. 1. ... 0. 0. 3.]\n",
            " ...\n",
            " [1. 0. 0. ... 0. 1. 0.]\n",
            " [0. 0. 1. ... 0. 0. 6.]\n",
            " [0. 1. 1. ... 0. 0. 1.]]\n"
          ]
        },
        {
          "output_type": "execute_result",
          "data": {
            "text/plain": [
              "(101, 17)"
            ]
          },
          "metadata": {},
          "execution_count": 94
        }
      ]
    },
    {
      "cell_type": "code",
      "source": [
        "x_data = xy[:, 0:-1]\n",
        "y_data = xy[:, [-1]]"
      ],
      "metadata": {
        "id": "A9aD35GUFTVH"
      },
      "execution_count": 95,
      "outputs": []
    },
    {
      "cell_type": "code",
      "source": [
        "nb_classes = 7 # 0 ~ 6\n",
        "\n",
        "# one hot encoding\n",
        "# tf.one_hot(라벨 인덱스 목록, 라벨 개수)\n",
        "\n",
        "Y_one_hot = tf.one_hot(y_data, nb_classes)# one hot rank : 1차원 추가됨 shape = (?,1,7)"
      ],
      "metadata": {
        "id": "VT6bBuoVFgW7"
      },
      "execution_count": 96,
      "outputs": []
    },
    {
      "cell_type": "code",
      "source": [
        "y_data.shape"
      ],
      "metadata": {
        "colab": {
          "base_uri": "https://localhost:8080/"
        },
        "id": "F54DTHXDGaQV",
        "outputId": "634ac25b-7618-48e9-a753-f23a52f660e1"
      },
      "execution_count": 97,
      "outputs": [
        {
          "output_type": "execute_result",
          "data": {
            "text/plain": [
              "(101, 1)"
            ]
          },
          "metadata": {},
          "execution_count": 97
        }
      ]
    },
    {
      "cell_type": "code",
      "source": [
        "Y_one_hot.shape"
      ],
      "metadata": {
        "colab": {
          "base_uri": "https://localhost:8080/"
        },
        "id": "FjToZLUIGqQP",
        "outputId": "798b51e9-4837-4cd6-b894-700bac6ae880"
      },
      "execution_count": 98,
      "outputs": [
        {
          "output_type": "execute_result",
          "data": {
            "text/plain": [
              "TensorShape([101, 1, 7])"
            ]
          },
          "metadata": {},
          "execution_count": 98
        }
      ]
    },
    {
      "cell_type": "code",
      "source": [
        "# shape에 -1를 입력하면 고정된 차원은 우선 채우고(nb_classes) 남은 부분을 알아서 채워준다.\n",
        "# [-1, nb_classes] : rank = 2 \n",
        "\n",
        "Y_one_hot = tf.reshape(Y_one_hot, [-1, nb_classes])"
      ],
      "metadata": {
        "id": "IwWHy1nHHV6H"
      },
      "execution_count": 99,
      "outputs": []
    },
    {
      "cell_type": "code",
      "source": [
        "Y_one_hot.shape"
      ],
      "metadata": {
        "colab": {
          "base_uri": "https://localhost:8080/"
        },
        "id": "1ID1w4R1Hm3p",
        "outputId": "bd77f3b3-492e-489b-b248-1a2135495275"
      },
      "execution_count": 100,
      "outputs": [
        {
          "output_type": "execute_result",
          "data": {
            "text/plain": [
              "TensorShape([101, 7])"
            ]
          },
          "metadata": {},
          "execution_count": 100
        }
      ]
    },
    {
      "cell_type": "code",
      "source": [
        "# Weights and bias setting\n",
        "W = tf.Variable(tf.random.normal([16,nb_classes]), name = 'weight')\n",
        "b = tf.Variable(tf.random.normal([nb_classes]), name = 'bias')\n",
        "\n",
        "def logit_fn(features) :\n",
        "  return tf.matmul(features,W) + b\n",
        "\n",
        "# accuracy 확인을 위해 hypothesis 정의\n",
        "def hypothesis(features) :\n",
        "  return tf.nn.softmax(logit_fn(features))\n",
        "\n",
        "def cost_fn(features,labels) :\n",
        "  logits = logit_fn(features)\n",
        "  cost_i = tf.nn.softmax_cross_entropy_with_logits(logits = logits, labels = labels)\n",
        "  cost = tf.reduce_mean(cost_i)\n",
        "\n",
        "  return cost\n",
        "\n",
        "def grad_fn(features, labels) :\n",
        "  with tf.GradientTape() as tape :\n",
        "    loss = cost_fn(features, labels)\n",
        "    grads = tape.gradient(loss, [W,b])\n",
        "  return grads\n",
        "\n",
        "def prediction(features, labels) :\n",
        "  pred = tf.argmax(hypothesis(features),1)\n",
        "  correct_prediction = tf.equal(pred, tf.argmax(labels,1))\n",
        "  accuracy = tf.reduce_mean(tf.cast(correct_prediction, tf.float32))\n",
        "\n",
        "  return accuracy\n",
        "\n",
        "\n"
      ],
      "metadata": {
        "id": "_c5zaPy1HpLK"
      },
      "execution_count": 107,
      "outputs": []
    },
    {
      "cell_type": "code",
      "source": [
        "def fit(features, labels, epochs=1000, verbose=100):\n",
        "    optimizer = tf.keras.optimizers.SGD(learning_rate = 0.1)\n",
        "\n",
        "    for i in range(epochs):\n",
        "        grads = grad_fn(features, labels)\n",
        "        optimizer.apply_gradients(zip(grads, [W,b]))\n",
        "        if (i==0) | ((i+1)%verbose==0):\n",
        "#             print('Loss at epoch %d: %f' %(i+1, cost_fn(X, Y).numpy()))\n",
        "            acc = prediction(features, labels).numpy()\n",
        "            loss = cost_fn(features, labels).numpy() \n",
        "            print('Steps: {} Loss: {}, Acc: {}'.format(i+1, loss, acc))\n"
      ],
      "metadata": {
        "id": "j8fp8YkqJoKL"
      },
      "execution_count": 108,
      "outputs": []
    },
    {
      "cell_type": "code",
      "source": [
        "fit(x_data, Y_one_hot)"
      ],
      "metadata": {
        "colab": {
          "base_uri": "https://localhost:8080/"
        },
        "id": "RdR4waCXMyCO",
        "outputId": "5bf5b37e-d71c-497b-9cb6-9d8794afbf50"
      },
      "execution_count": 109,
      "outputs": [
        {
          "output_type": "stream",
          "name": "stdout",
          "text": [
            "Steps: 1 Loss: 5.728363990783691, Acc: 0.20792078971862793\n",
            "Steps: 100 Loss: 0.6460839509963989, Acc: 0.7821782231330872\n",
            "Steps: 200 Loss: 0.375124454498291, Acc: 0.9009901285171509\n",
            "Steps: 300 Loss: 0.2742172181606293, Acc: 0.9207921028137207\n",
            "Steps: 400 Loss: 0.21724514663219452, Acc: 0.9603960514068604\n",
            "Steps: 500 Loss: 0.18015071749687195, Acc: 0.9702970385551453\n",
            "Steps: 600 Loss: 0.15384608507156372, Acc: 0.9702970385551453\n",
            "Steps: 700 Loss: 0.13410501182079315, Acc: 0.9801980257034302\n",
            "Steps: 800 Loss: 0.11871985346078873, Acc: 0.9801980257034302\n",
            "Steps: 900 Loss: 0.10641277581453323, Acc: 0.9900990128517151\n",
            "Steps: 1000 Loss: 0.0963730588555336, Acc: 0.9900990128517151\n"
          ]
        }
      ]
    },
    {
      "cell_type": "code",
      "source": [
        ""
      ],
      "metadata": {
        "id": "v4HxtVuLOrOQ"
      },
      "execution_count": null,
      "outputs": []
    }
  ]
}