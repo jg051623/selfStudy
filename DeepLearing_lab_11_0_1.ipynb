{
  "nbformat": 4,
  "nbformat_minor": 0,
  "metadata": {
    "colab": {
      "name": "DeepLearing_lab_11_0_1.ipynb",
      "provenance": [],
      "collapsed_sections": [],
      "authorship_tag": "ABX9TyNQp4l06ytznQ+iHARzdlyU"
    },
    "kernelspec": {
      "name": "python3",
      "display_name": "Python 3"
    },
    "language_info": {
      "name": "python"
    }
  },
  "cells": [
    {
      "cell_type": "code",
      "execution_count": null,
      "metadata": {
        "id": "zrtnm9SoLc56"
      },
      "outputs": [],
      "source": [
        "## tf.keras.layers.Conv2D Option : https://www.tensorflow.org/api_docs/python/tf/keras/layers/Conv2D\n",
        "# filters : filter 개수 / kernal_size : convolution filter size, integer : 3 , tuple : (3,3), list : [3,3] 가능 \n",
        "# padding : \"valid\" or \"same\"  - valid : padding X , - same : stride 1 기준, 입력과 출력의 size가 같아지도록, 더 자세한 건 위의 링크 참고\n",
        "\n",
        "# data_format : channels_last(Default) : (batch, height, width, channels) / if channels_first : (batch, channels, height, width)\n",
        "# use_bias : bias 사용 여부\n",
        "# kernel_initializer, kernel_regularizer : initialzier and regularizer(L2 regularizer 등..) for kernel weights matrix\n",
        "# bias_initializer . bias_regularizer"
      ]
    },
    {
      "cell_type": "code",
      "source": [
        "# kernel dimension : 4D / (height, width, in_channel, out_channel) / 만약 실제로 값을 지정해서 넣어주고 싶은 경우 data_format shape 순서와 다르다는 것 유의"
      ],
      "metadata": {
        "id": "gJ0uxUGoUF7a"
      },
      "execution_count": null,
      "outputs": []
    },
    {
      "cell_type": "code",
      "source": [
        "import numpy as np\n",
        "import tensorflow as tf\n",
        "from tensorflow import keras\n",
        "import matplotlib.pyplot as plt"
      ],
      "metadata": {
        "id": "gdbjZhKQiNJr"
      },
      "execution_count": null,
      "outputs": []
    },
    {
      "cell_type": "code",
      "source": [
        "# toy image\n",
        "\n",
        "image =  tf.constant([[[[1],[2],[3]],\n",
        "                       [[4],[5],[6]],\n",
        "                       [[7],[8],[9]]]], dtype = np.float32)\n",
        "\n",
        "# maybe.. 1*3*3*1? "
      ],
      "metadata": {
        "id": "bPxgutliiUKB"
      },
      "execution_count": null,
      "outputs": []
    },
    {
      "cell_type": "code",
      "source": [
        "image.shape\n",
        "# batch, height, width, channels"
      ],
      "metadata": {
        "colab": {
          "base_uri": "https://localhost:8080/"
        },
        "id": "lzaquAeIi_q9",
        "outputId": "6a5b1957-53ab-4277-c71e-ac2e177225d0"
      },
      "execution_count": null,
      "outputs": [
        {
          "output_type": "execute_result",
          "data": {
            "text/plain": [
              "TensorShape([1, 3, 3, 1])"
            ]
          },
          "metadata": {},
          "execution_count": 17
        }
      ]
    },
    {
      "cell_type": "code",
      "source": [
        "plt.imshow(image.numpy().reshape(3,3), cmap = 'Greys')\n",
        "plt.show()"
      ],
      "metadata": {
        "colab": {
          "base_uri": "https://localhost:8080/",
          "height": 269
        },
        "id": "C-vOA-x4jWRy",
        "outputId": "035343c0-4c61-4833-b4dd-b21e88740f03"
      },
      "execution_count": null,
      "outputs": [
        {
          "output_type": "display_data",
          "data": {
            "image/png": "[encoded data removed]",
            "text/plain": [
              "<Figure size 432x288 with 1 Axes>"
            ]
          },
          "metadata": {
            "needs_background": "light"
          }
        }
      ]
    },
    {
      "cell_type": "code",
      "source": [
        "# filter : 2*2*1*1 / (height, width, in_channel, out_channel)\n",
        "weight = np.array([[[[1]],[[1]]],\n",
        "                   [[[1]],[[1]]]], dtype = np.float32)\n",
        "\n",
        "print(weight.shape)"
      ],
      "metadata": {
        "colab": {
          "base_uri": "https://localhost:8080/"
        },
        "id": "LnCdsAJrj68h",
        "outputId": "5a607ef5-7da3-47b0-929f-6f3ef6499f65"
      },
      "execution_count": null,
      "outputs": [
        {
          "output_type": "stream",
          "name": "stdout",
          "text": [
            "(2, 2, 1, 1)\n"
          ]
        }
      ]
    },
    {
      "cell_type": "code",
      "source": [
        "# numph practice 2*3*2*1\n",
        "\n",
        "a = np.array([[[[1],[1]],\n",
        "           [[1],[1]],\n",
        "           [[1],[1]]],\n",
        "           [[[1],[1]],\n",
        "           [[1],[1]],\n",
        "           [[1],[1]]]])\n",
        "\n",
        "print(a.shape)"
      ],
      "metadata": {
        "colab": {
          "base_uri": "https://localhost:8080/"
        },
        "id": "6_FwGAkZlApY",
        "outputId": "9d99114f-3852-4db8-8e6c-dfb8e421d1d6"
      },
      "execution_count": null,
      "outputs": [
        {
          "output_type": "stream",
          "name": "stdout",
          "text": [
            "(2, 3, 2, 1)\n"
          ]
        }
      ]
    },
    {
      "cell_type": "code",
      "source": [
        "weight_init = tf.constant_initializer(weight)"
      ],
      "metadata": {
        "id": "ZkF9it2qljBZ"
      },
      "execution_count": null,
      "outputs": []
    },
    {
      "cell_type": "code",
      "source": [
        "conv2d = keras.layers.Conv2D(filters = 1, kernel_size = 2, padding = 'VALID',\n",
        "                             kernel_initializer = weight_init)(image) # filter : 2*2 > kernel_size = 2"
      ],
      "metadata": {
        "id": "3zpiPoG6l7Hm"
      },
      "execution_count": null,
      "outputs": []
    },
    {
      "cell_type": "code",
      "source": [
        "print(\"conv2d.shape\",conv2d.shape)\n",
        "print(conv2d.numpy().reshape(2,2))\n",
        "plt.imshow(conv2d.numpy().reshape(2,2), cmap = 'Greys')\n",
        "plt.show()"
      ],
      "metadata": {
        "colab": {
          "base_uri": "https://localhost:8080/",
          "height": 324
        },
        "id": "Eu8FhLgimK_1",
        "outputId": "4a329ad3-b86d-47e2-d1f0-a6b5b58add72"
      },
      "execution_count": null,
      "outputs": [
        {
          "output_type": "stream",
          "name": "stdout",
          "text": [
            "conv2d.shape (1, 2, 2, 1)\n",
            "[[12. 16.]\n",
            " [24. 28.]]\n"
          ]
        },
        {
          "output_type": "display_data",
          "data": {
            "image/png": "[encoded data removed]",
            "text/plain": [
              "<Figure size 432x288 with 1 Axes>"
            ]
          },
          "metadata": {
            "needs_background": "light"
          }
        }
      ]
    },
    {
      "cell_type": "code",
      "source": [
        "## padding > same 으로 바꾸기 / output size : 3*3 이길 바라며..\n",
        "conv2d = keras.layers.Conv2D(filters = 1, kernel_size = 2, padding = 'SAME',\n",
        "                             kernel_initializer = weight_init)(image) # filter : 2*2 > kernel_size = 2"
      ],
      "metadata": {
        "id": "bJjAbhX9m94t"
      },
      "execution_count": null,
      "outputs": []
    },
    {
      "cell_type": "code",
      "source": [
        "print(\"conv2d.shape\",conv2d.shape)\n",
        "print(conv2d.numpy().reshape(3,3))\n",
        "plt.imshow(conv2d.numpy().reshape(3,3), cmap = 'Greys')\n",
        "plt.show()"
      ],
      "metadata": {
        "colab": {
          "base_uri": "https://localhost:8080/",
          "height": 342
        },
        "id": "CpNW30M9nPqz",
        "outputId": "0a034c67-c6c7-4a4f-bc3c-783573c3ba9b"
      },
      "execution_count": null,
      "outputs": [
        {
          "output_type": "stream",
          "name": "stdout",
          "text": [
            "conv2d.shape (1, 3, 3, 1)\n",
            "[[12. 16.  9.]\n",
            " [24. 28. 15.]\n",
            " [15. 17.  9.]]\n"
          ]
        },
        {
          "output_type": "display_data",
          "data": {
            "image/png": "[encoded data removed]",
            "text/plain": [
              "<Figure size 432x288 with 1 Axes>"
            ]
          },
          "metadata": {
            "needs_background": "light"
          }
        }
      ]
    },
    {
      "cell_type": "code",
      "source": [
        "## 3 filters : (2,2,1,3)\n",
        "\n",
        "weight = np.array([[[[1,10,-1]],\n",
        "                    [[1,10,-1]]],\n",
        "                   [[[1,10,-1]],\n",
        "                    [[1,10,-1]]]], dtype = np.float32)\n",
        "\n",
        "\n",
        "# filter 1 : value 1로 채워진 2*2 size filter / filter 2 : value 10으로 채워진 2*2 filter\n",
        "print(weight.shape)"
      ],
      "metadata": {
        "colab": {
          "base_uri": "https://localhost:8080/"
        },
        "id": "AnQYhplznQi-",
        "outputId": "9efe6f25-b072-4c12-b160-320da2a01464"
      },
      "execution_count": null,
      "outputs": [
        {
          "output_type": "stream",
          "name": "stdout",
          "text": [
            "(2, 2, 1, 3)\n"
          ]
        }
      ]
    },
    {
      "cell_type": "code",
      "source": [
        "weight_init = tf.constant_initializer(weight)"
      ],
      "metadata": {
        "id": "Fe1FUjr7ntnM"
      },
      "execution_count": null,
      "outputs": []
    },
    {
      "cell_type": "code",
      "source": [
        "conv2d = keras.layers.Conv2D(filters = 3, kernel_size = 2, padding = 'SAME',\n",
        "                             kernel_initializer = weight_init)(image)  # filter 개수 : 3"
      ],
      "metadata": {
        "id": "CCb8c3Y9nwaD"
      },
      "execution_count": null,
      "outputs": []
    },
    {
      "cell_type": "code",
      "source": [
        "print(conv2d.shape)"
      ],
      "metadata": {
        "colab": {
          "base_uri": "https://localhost:8080/"
        },
        "id": "mEme1saloKMi",
        "outputId": "57c8a30c-605a-46ce-84aa-63409320ca9e"
      },
      "execution_count": null,
      "outputs": [
        {
          "output_type": "stream",
          "name": "stdout",
          "text": [
            "(1, 3, 3, 3)\n"
          ]
        }
      ]
    },
    {
      "cell_type": "code",
      "source": [
        "feature_maps = np.swapaxes(conv2d, 0, 3)\n",
        "print(feature_maps.shape)"
      ],
      "metadata": {
        "colab": {
          "base_uri": "https://localhost:8080/"
        },
        "id": "WYKA-qf7oMt0",
        "outputId": "091ec2f9-d0e5-49e8-8e3f-aa99d748833c"
      },
      "execution_count": null,
      "outputs": [
        {
          "output_type": "stream",
          "name": "stdout",
          "text": [
            "(3, 3, 3, 1)\n"
          ]
        }
      ]
    },
    {
      "cell_type": "code",
      "source": [
        "for i, feature_map in enumerate(feature_maps) :\n",
        "  print(i,feature_map)\n"
      ],
      "metadata": {
        "colab": {
          "base_uri": "https://localhost:8080/"
        },
        "id": "ELsoPiqaohuk",
        "outputId": "fb1c1469-21c7-4b61-8820-1655a3c782cc"
      },
      "execution_count": null,
      "outputs": [
        {
          "output_type": "stream",
          "name": "stdout",
          "text": [
            "0 [[[12.]\n",
            "  [16.]\n",
            "  [ 9.]]\n",
            "\n",
            " [[24.]\n",
            "  [28.]\n",
            "  [15.]]\n",
            "\n",
            " [[15.]\n",
            "  [17.]\n",
            "  [ 9.]]]\n",
            "1 [[[120.]\n",
            "  [160.]\n",
            "  [ 90.]]\n",
            "\n",
            " [[240.]\n",
            "  [280.]\n",
            "  [150.]]\n",
            "\n",
            " [[150.]\n",
            "  [170.]\n",
            "  [ 90.]]]\n",
            "2 [[[-12.]\n",
            "  [-16.]\n",
            "  [ -9.]]\n",
            "\n",
            " [[-24.]\n",
            "  [-28.]\n",
            "  [-15.]]\n",
            "\n",
            " [[-15.]\n",
            "  [-17.]\n",
            "  [ -9.]]]\n"
          ]
        }
      ]
    },
    {
      "cell_type": "code",
      "source": [
        "for i, feature_map in enumerate(feature_maps) :\n",
        "  print(feature_map.reshape(3,3))\n",
        "  plt.subplot(1,3,i+1), plt.imshow(feature_map.reshape(3,3), cmap='Greys')\n",
        "\n",
        "  plt.show()\n"
      ],
      "metadata": {
        "colab": {
          "base_uri": "https://localhost:8080/",
          "height": 569
        },
        "id": "Cnc1y9Ewpkt3",
        "outputId": "87242d25-768b-44f6-e421-65832c507305"
      },
      "execution_count": null,
      "outputs": [
        {
          "output_type": "stream",
          "name": "stdout",
          "text": [
            "[[12. 16.  9.]\n",
            " [24. 28. 15.]\n",
            " [15. 17.  9.]]\n"
          ]
        },
        {
          "output_type": "display_data",
          "data": {
            "image/png": "[encoded data removed]",
            "text/plain": [
              "<Figure size 432x288 with 1 Axes>"
            ]
          },
          "metadata": {
            "needs_background": "light"
          }
        },
        {
          "output_type": "stream",
          "name": "stdout",
          "text": [
            "[[120. 160.  90.]\n",
            " [240. 280. 150.]\n",
            " [150. 170.  90.]]\n"
          ]
        },
        {
          "output_type": "display_data",
          "data": {
            "image/png": "[encoded data removed]",
            "text/plain": [
              "<Figure size 432x288 with 1 Axes>"
            ]
          },
          "metadata": {
            "needs_background": "light"
          }
        },
        {
          "output_type": "stream",
          "name": "stdout",
          "text": [
            "[[-12. -16.  -9.]\n",
            " [-24. -28. -15.]\n",
            " [-15. -17.  -9.]]\n"
          ]
        },
        {
          "output_type": "display_data",
          "data": {
            "image/png": "[encoded data removed]",
            "text/plain": [
              "<Figure size 432x288 with 1 Axes>"
            ]
          },
          "metadata": {
            "needs_background": "light"
          }
        }
      ]
    },
    {
      "cell_type": "code",
      "source": [
        "conv2d"
      ],
      "metadata": {
        "colab": {
          "base_uri": "https://localhost:8080/"
        },
        "id": "QoFpCG9cpyqx",
        "outputId": "6c4a49c0-b959-4ac8-87e0-512cc12f8e5b"
      },
      "execution_count": null,
      "outputs": [
        {
          "output_type": "execute_result",
          "data": {
            "text/plain": [
              "<tf.Tensor: shape=(1, 3, 3, 3), dtype=float32, numpy=\n",
              "array([[[[ 12., 120., -12.],\n",
              "         [ 16., 160., -16.],\n",
              "         [  9.,  90.,  -9.]],\n",
              "\n",
              "        [[ 24., 240., -24.],\n",
              "         [ 28., 280., -28.],\n",
              "         [ 15., 150., -15.]],\n",
              "\n",
              "        [[ 15., 150., -15.],\n",
              "         [ 17., 170., -17.],\n",
              "         [  9.,  90.,  -9.]]]], dtype=float32)>"
            ]
          },
          "metadata": {},
          "execution_count": 50
        }
      ]
    },
    {
      "cell_type": "code",
      "source": [
        "feature_maps"
      ],
      "metadata": {
        "colab": {
          "base_uri": "https://localhost:8080/"
        },
        "id": "wMcG8-_rqBX2",
        "outputId": "d0f2bba3-0fcd-42f7-b634-b64074e3d831"
      },
      "execution_count": null,
      "outputs": [
        {
          "output_type": "execute_result",
          "data": {
            "text/plain": [
              "array([[[[ 12.],\n",
              "         [ 16.],\n",
              "         [  9.]],\n",
              "\n",
              "        [[ 24.],\n",
              "         [ 28.],\n",
              "         [ 15.]],\n",
              "\n",
              "        [[ 15.],\n",
              "         [ 17.],\n",
              "         [  9.]]],\n",
              "\n",
              "\n",
              "       [[[120.],\n",
              "         [160.],\n",
              "         [ 90.]],\n",
              "\n",
              "        [[240.],\n",
              "         [280.],\n",
              "         [150.]],\n",
              "\n",
              "        [[150.],\n",
              "         [170.],\n",
              "         [ 90.]]],\n",
              "\n",
              "\n",
              "       [[[-12.],\n",
              "         [-16.],\n",
              "         [ -9.]],\n",
              "\n",
              "        [[-24.],\n",
              "         [-28.],\n",
              "         [-15.]],\n",
              "\n",
              "        [[-15.],\n",
              "         [-17.],\n",
              "         [ -9.]]]], dtype=float32)"
            ]
          },
          "metadata": {},
          "execution_count": 51
        }
      ]
    },
    {
      "cell_type": "code",
      "source": [
        ""
      ],
      "metadata": {
        "id": "TyUaRvmJqgy3"
      },
      "execution_count": null,
      "outputs": []
    }
  ]
}