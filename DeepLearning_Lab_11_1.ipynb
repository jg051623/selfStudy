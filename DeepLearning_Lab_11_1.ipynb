{
  "nbformat": 4,
  "nbformat_minor": 0,
  "metadata": {
    "colab": {
      "name": "DeepLearning_Lab_11_1.ipynb",
      "provenance": [],
      "collapsed_sections": [],
      "authorship_tag": "ABX9TyMnn148SmUKESf/KWsHZKT6"
    },
    "kernelspec": {
      "name": "python3",
      "display_name": "Python 3"
    },
    "language_info": {
      "name": "python"
    }
  },
  "cells": [
    {
      "cell_type": "code",
      "source": [
        "# ## NN Implementattion Flow in tensorflow\n",
        "# 1. set hyper parameters - learning rate, training epochs, batch size, etc.\n",
        "# 2. make a data pipelining - use tf.data\n",
        "# 3. build a neural network model - tf.keras.sequential APIs\n",
        "# 4. define a loss function - cross entropy etc\n",
        "# 5. calculate a gradient - tf.GradientTape\n",
        "# 6. select an optimizer - Adam.. etc\n",
        "# 7. define a metric for model's performance - accuracy etc\n",
        "# 8. (optional) make a checkpoint for saving\n",
        "# 9.  train an validate a neural network model\n"
      ],
      "metadata": {
        "id": "AZGmqz_cX4hi"
      },
      "execution_count": 3,
      "outputs": []
    },
    {
      "cell_type": "code",
      "source": [
        "# 28*28 image(mnist data)\n",
        "# Conv 3*3, stide 1, padding=SAME / filter : 32개\n",
        "# 2*2 max pooling, stride 2, padding = SAME \n",
        "# Conv 3*3, stide 1, padding=SAME / filter :64\n",
        "# 2*2 max pooling, stride 2, padding = SAME\n",
        "# Conv 3*3, stide 1, padding=SAME / filter : 128\n",
        "# 2*2 max pooling, stride 2, padding = SAME\n",
        "# dense(256)\n",
        "# dense(10)"
      ],
      "metadata": {
        "id": "zHViN6zkX7DO"
      },
      "execution_count": 4,
      "outputs": []
    },
    {
      "cell_type": "code",
      "source": [
        "import tensorflow as tf\n",
        "from tensorflow import keras\n",
        "from tensorflow.keras.utils import to_categorical\n",
        "import numpy as np\n",
        "import matplotlib.pyplot as plt\n",
        "import os"
      ],
      "metadata": {
        "id": "0j-vYpDtZL5m"
      },
      "execution_count": 6,
      "outputs": []
    },
    {
      "cell_type": "code",
      "source": [
        "## 1. set hyper parameters\n",
        "lr = 0.001\n",
        "training_epochs = 15\n",
        "batch_size = 100\n",
        "\n",
        "# set checkpoint saving directory\n",
        "cur_dir = os.getcwd()\n",
        "ckpt_dir_name = 'checkpoints'\n",
        "model_dir_name = 'mnist_cnn_seq'\n",
        "\n",
        "checkpoint_dir = os.path.join(cur_dir, ckpt_dir_name, model_dir_name)\n",
        "os.makedirs(checkpoint_dir, exist_ok = True)\n",
        "\n",
        "checkpoint_prefix = os.path.join(checkpoint_dir, model_dir_name)"
      ],
      "metadata": {
        "id": "Y7M4VBrLaBVC"
      },
      "execution_count": 12,
      "outputs": []
    },
    {
      "cell_type": "code",
      "source": [
        "checkpoint_prefix "
      ],
      "metadata": {
        "colab": {
          "base_uri": "https://localhost:8080/",
          "height": 35
        },
        "id": "GQPrbqCual25",
        "outputId": "3b9661f7-bdcd-46a2-bde0-d744c5ba7b53"
      },
      "execution_count": 13,
      "outputs": [
        {
          "output_type": "execute_result",
          "data": {
            "application/vnd.google.colaboratory.intrinsic+json": {
              "type": "string"
            },
            "text/plain": [
              "'/content/checkpoints/mnist_cnn_seq/mnist_cnn_seq'"
            ]
          },
          "metadata": {},
          "execution_count": 13
        }
      ]
    },
    {
      "cell_type": "code",
      "source": [
        "# 2. make a data pipelining\n",
        "\n",
        "mnist = keras.datasets.mnist\n",
        "(train_images, train_labels), (test_images, test_labels) = mnist.load_data()"
      ],
      "metadata": {
        "colab": {
          "base_uri": "https://localhost:8080/"
        },
        "id": "ju1_Id1saxMd",
        "outputId": "00f62be6-0abb-45d6-f98d-bca51b40f137"
      },
      "execution_count": 15,
      "outputs": [
        {
          "output_type": "stream",
          "name": "stdout",
          "text": [
            "Downloading data from https://storage.googleapis.com/tensorflow/tf-keras-datasets/mnist.npz\n",
            "11493376/11490434 [==============================] - 0s 0us/step\n",
            "11501568/11490434 [==============================] - 0s 0us/step\n"
          ]
        }
      ]
    },
    {
      "cell_type": "code",
      "source": [
        "print(train_images.shape, train_labels.shape)"
      ],
      "metadata": {
        "colab": {
          "base_uri": "https://localhost:8080/"
        },
        "id": "KvZ21SfjbPth",
        "outputId": "cb11c372-89d6-4e85-c196-429bd450876a"
      },
      "execution_count": 17,
      "outputs": [
        {
          "output_type": "stream",
          "name": "stdout",
          "text": [
            "(60000, 28, 28) (60000,)\n"
          ]
        }
      ]
    },
    {
      "cell_type": "code",
      "source": [
        "train_images = train_images.astype(np.float32) / 255.\n",
        "test_images = test_images.astype(np.float32) / 255.\n",
        "train_images = np.expand_dims(train_images, axis = -1)  # for 4D shape\n",
        "test_images = np.expand_dims(test_images, axis = -1)  # for 4D shape\n",
        "\n",
        "#one hot encoding\n",
        "train_labels = to_categorical(train_labels, 10)\n",
        "test_labels = to_categorical(test_labels, 10)"
      ],
      "metadata": {
        "id": "vi_eOqFSbSGY"
      },
      "execution_count": 19,
      "outputs": []
    },
    {
      "cell_type": "code",
      "source": [
        "train_labels"
      ],
      "metadata": {
        "colab": {
          "base_uri": "https://localhost:8080/"
        },
        "id": "1VXHhQuibsh_",
        "outputId": "1df37c3c-aaa3-4702-e35b-8e1e99ae78f5"
      },
      "execution_count": 20,
      "outputs": [
        {
          "output_type": "execute_result",
          "data": {
            "text/plain": [
              "array([[0., 0., 0., ..., 0., 0., 0.],\n",
              "       [1., 0., 0., ..., 0., 0., 0.],\n",
              "       [0., 0., 0., ..., 0., 0., 0.],\n",
              "       ...,\n",
              "       [0., 0., 0., ..., 0., 0., 0.],\n",
              "       [0., 0., 0., ..., 0., 0., 0.],\n",
              "       [0., 0., 0., ..., 0., 1., 0.]], dtype=float32)"
            ]
          },
          "metadata": {},
          "execution_count": 20
        }
      ]
    },
    {
      "cell_type": "code",
      "source": [
        "train_labels.shape "
      ],
      "metadata": {
        "colab": {
          "base_uri": "https://localhost:8080/"
        },
        "id": "nsA_A_whbviC",
        "outputId": "10edd178-7f4f-4821-b05f-4c19b4357bfa"
      },
      "execution_count": 21,
      "outputs": [
        {
          "output_type": "execute_result",
          "data": {
            "text/plain": [
              "(60000, 10)"
            ]
          },
          "metadata": {},
          "execution_count": 21
        }
      ]
    },
    {
      "cell_type": "code",
      "source": [
        "train_dataset = tf.data.Dataset.from_tensor_slices((train_images, train_labels)).shuffle(buffer_size = 100000).batch(batch_size)\n",
        "test_dataset = tf.data.Dataset.from_tensor_slices((train_images, train_labels)).batch(batch_size)\n",
        "\n",
        "# shuffle : 고정된 buffer_size만큼 epoch 마다 이미지를 섞어서 오버피팅이 줄도록 도와줌"
      ],
      "metadata": {
        "id": "97zutDPkbzL4"
      },
      "execution_count": 22,
      "outputs": []
    },
    {
      "cell_type": "code",
      "source": [
        "# from_tensors: It also accepts single or multiple numpy arrays or tensors. Dataset created using this method will emit all the data at once.\n",
        "# from_generator: Creates a Dataset whose elements are generated by a function."
      ],
      "metadata": {
        "id": "iy1rMXWxdRpj"
      },
      "execution_count": 23,
      "outputs": []
    },
    {
      "cell_type": "code",
      "source": [
        "# 3. build a neural network model using sequential API\n",
        "def create_model() :\n",
        "  model = keras.Sequential()\n",
        "\n",
        "  model.add(keras.layers.Conv2D(filters = 32, kernel_size = 3, activation = tf.nn.relu,\n",
        "                                padding = 'SAME', input_shape = (28,28,1)))  # batch size 는 안써줘도 됨\n",
        "  model.add(keras.layers.MaxPool2D(padding = 'SAME'))  # default : 2*2, stride : If None, it will default to pool_size.\n",
        "  model.add(keras.layers.Conv2D(filters = 64, kernel_size = 3, activation = tf.nn.relu,\n",
        "                                padding = 'SAME'))\n",
        "  model.add(keras.layers.MaxPool2D(padding = 'SAME'))\n",
        "  model.add(keras.layers.Conv2D(filters = 128, kernel_size = 3, activation = tf.nn.relu,\n",
        "                                padding = 'SAME'))\n",
        "  model.add(keras.layers.MaxPool2D(padding = 'SAME'))\n",
        "  model.add(keras.layers.Flatten())\n",
        "  model.add(keras.layers.Dense(256, activation = tf.nn.relu))\n",
        "  model.add(keras.layers.Dropout(0.4))\n",
        "  model.add(keras.layers.Dense(10))\n",
        "  return model\n",
        "\n",
        "model = create_model()\n",
        "model.summary()\n"
      ],
      "metadata": {
        "colab": {
          "base_uri": "https://localhost:8080/"
        },
        "id": "cctyTwiPeJuv",
        "outputId": "ea87839d-6d99-4f7c-bbaf-2e8827753656"
      },
      "execution_count": 27,
      "outputs": [
        {
          "output_type": "stream",
          "name": "stdout",
          "text": [
            "Model: \"sequential\"\n",
            "_________________________________________________________________\n",
            " Layer (type)                Output Shape              Param #   \n",
            "=================================================================\n",
            " conv2d (Conv2D)             (None, 28, 28, 32)        320       \n",
            "                                                                 \n",
            " max_pooling2d (MaxPooling2D  (None, 14, 14, 32)       0         \n",
            " )                                                               \n",
            "                                                                 \n",
            " conv2d_1 (Conv2D)           (None, 14, 14, 64)        18496     \n",
            "                                                                 \n",
            " max_pooling2d_1 (MaxPooling  (None, 7, 7, 64)         0         \n",
            " 2D)                                                             \n",
            "                                                                 \n",
            " conv2d_2 (Conv2D)           (None, 7, 7, 128)         73856     \n",
            "                                                                 \n",
            " max_pooling2d_2 (MaxPooling  (None, 4, 4, 128)        0         \n",
            " 2D)                                                             \n",
            "                                                                 \n",
            " flatten (Flatten)           (None, 2048)              0         \n",
            "                                                                 \n",
            " dense (Dense)               (None, 256)               524544    \n",
            "                                                                 \n",
            " dropout (Dropout)           (None, 256)               0         \n",
            "                                                                 \n",
            " dense_1 (Dense)             (None, 10)                2570      \n",
            "                                                                 \n",
            "=================================================================\n",
            "Total params: 619,786\n",
            "Trainable params: 619,786\n",
            "Non-trainable params: 0\n",
            "_________________________________________________________________\n"
          ]
        }
      ]
    },
    {
      "cell_type": "code",
      "source": [
        "# 4,5 define a loss function & calculate a gradient \n",
        "def loss_fn(model, images, labels) :\n",
        "  logits = model(images, training = True) # Dropout 적용됨\n",
        "  loss = tf.reduce_mean(tf.nn.softmax_cross_entropy_with_logits(logits = logits, labels = labels))\n",
        "  return loss\n",
        "\n",
        "\n",
        "def grad(model, image, labels) :\n",
        "  with tf.GradientTape() as tape :\n",
        "    loss = loss_fn(model, images, labels) \n",
        "  return tape.gradient(loss, model.variables) #loss 를 이 모델에 있는 모든 parameter에 대해서 미분한 값을 구해주세요"
      ],
      "metadata": {
        "id": "UKb14TXJg-ZD"
      },
      "execution_count": 28,
      "outputs": []
    },
    {
      "cell_type": "code",
      "source": [
        "# 6. select an optimizer - Adam.. etc\n",
        "# 7. define a metric for model's performance - accuracy etc\n",
        "# 8. (optional) make a checkpoint for saving\n",
        "\n",
        "optimizer = tf.keras.optimizers.Adam(learning_rate = lr)\n",
        "\n",
        "def evaluate(model, images, labels) :\n",
        "  logits = model(images, training=False) # dropout 적용 x\n",
        "  correct_prediction = tf.equal(tf.argmax(logits,1), tf.argmax(labels,1))\n",
        "  accuracy = tf.reduce_mean(tf.cast(correct_prediction, tf.float32))\n",
        "  return accuracy\n",
        "\n",
        "#tf.equal() 함수는 두 값이 동일하면 True, 다르면 False를 반환하는 함수입니다.\n",
        "#tf.cast() 함수는 True/False 형태의 값을 1과 0으로 바꾸어주는 함수입니다.\n",
        "\n",
        "checkpoint = tf.train.Checkpoint(cnn=model)\n"
      ],
      "metadata": {
        "id": "M_BHGMBPkdsD"
      },
      "execution_count": 36,
      "outputs": []
    },
    {
      "cell_type": "code",
      "source": [
        "# aa = [0,1,0,0,5]\n",
        "# tf.argmax(aa)"
      ],
      "metadata": {
        "id": "5Pj-PyLFlnZ5"
      },
      "execution_count": 37,
      "outputs": []
    },
    {
      "cell_type": "code",
      "source": [
        "# 9.  train an validate a neural network model\n",
        "\n",
        "for epoch in range(training_epochs) :\n",
        "  avg_loss = 0\n",
        "  avg_train_acc = 0\n",
        "  avg_test_acc = 0\n",
        "  train_step = 0\n",
        "  test_step = 0\n",
        "\n",
        "  for images, labels in train_dataset :\n",
        "    grads = grad(model, images, labels)\n",
        "    optimizer.apply_gradients(zip(grads, model.variables))\n",
        "    loss = loss_fn(model, images, labels)\n",
        "    acc = evaluate(model, images, labels)\n",
        "    avg_loss = avg_loss + loss\n",
        "    avg_train_acc = avg_train_acc + acc\n",
        "    train_step += 1\n",
        "    print(train_step)\n",
        "  \n",
        "  avg_loss = avg_loss / train_step\n",
        "  avg_train_acc = avg_train_acc / train_step\n",
        "\n",
        "  for images, labels in test_dataset:        \n",
        "    acc = evaluate(model, images, labels)\n",
        "    avg_test_acc = avg_test_acc + acc\n",
        "    test_step += 1    \n",
        "  avg_test_acc = avg_test_acc / test_step    \n",
        "\n",
        "  print('Epoch:', '{}'.format(epoch + 1), 'loss =', '{:.8f}'.format(avg_loss), \n",
        "        'train accuracy = ', '{:.4f}'.format(avg_train_acc), \n",
        "        'test accuracy = ', '{:.4f}'.format(avg_test_acc))\n",
        "    \n",
        "  checkpoint.save(file_prefix=checkpoint_prefix) # epoch 한번 끝날때마다 모델 저장\n",
        "\n",
        "print('Learning Finished!')"
      ],
      "metadata": {
        "id": "4GSfRdBKlrCM"
      },
      "execution_count": null,
      "outputs": []
    },
    {
      "cell_type": "code",
      "source": [
        ""
      ],
      "metadata": {
        "id": "Xr0oTpQ5o-yq"
      },
      "execution_count": null,
      "outputs": []
    }
  ]
}