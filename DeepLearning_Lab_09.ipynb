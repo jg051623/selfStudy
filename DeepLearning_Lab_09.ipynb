{
  "nbformat": 4,
  "nbformat_minor": 0,
  "metadata": {
    "colab": {
      "name": "DeepLearning_Lab_09.ipynb",
      "provenance": [],
      "authorship_tag": "ABX9TyO7/foDb+JI6RSAKvI8ppYh"
    },
    "kernelspec": {
      "name": "python3",
      "display_name": "Python 3"
    },
    "language_info": {
      "name": "python"
    }
  },
  "cells": [
    {
      "cell_type": "code",
      "execution_count": 6,
      "metadata": {
        "id": "1bcKfCiIiYvJ"
      },
      "outputs": [],
      "source": [
        "import tensorflow as tf\n",
        "import numpy as np\n",
        "import matplotlib.pyplot as plt\n",
        "%matplotlib inline"
      ]
    },
    {
      "cell_type": "code",
      "source": [
        "# 2 layer\n",
        "def neural_net(features) :\n",
        "  layer1  = tf.sigmoid(tf.matmul(features,W1) + b1) # features : (1,2) W1 : (2,1), b1:(1,)\n",
        "  layer2 = tf.sigmoid(tf.matmul(features,W2) + b2) # features : (1,2) W2: (2,1), b2:(1,)\n",
        "  hypothesis = tf.sigmoid(tf.matmul(tf.concat([layer1,layer2],axis = -1),W3) + b3)  # tf. concat : (1,2) W3 : (2,1), b3:(1,)\n",
        "  return hypothesis"
      ],
      "metadata": {
        "id": "18X2F8rzjMQO"
      },
      "execution_count": 2,
      "outputs": []
    },
    {
      "cell_type": "code",
      "source": [
        "# Vector\n",
        "def neural_net2(features) :\n",
        "  layer1  = tf.sigmoid(tf.matmul(features,W1) + b1)   # features shape : (4,2) W1 : (2,1) b1 : (2,)\n",
        "  hypothesis = tf.sigmoid(tf.matmul(features,W2) + b2)\n",
        "  return hypothesis"
      ],
      "metadata": {
        "id": "WtvzO513lAGF"
      },
      "execution_count": 5,
      "outputs": []
    },
    {
      "cell_type": "code",
      "source": [
        "tf.random.set_seed(777)"
      ],
      "metadata": {
        "id": "xZHOvYeMloGZ"
      },
      "execution_count": 7,
      "outputs": []
    },
    {
      "cell_type": "code",
      "source": [
        "x_data = [[0,0],\n",
        "          [0,1],\n",
        "          [1,0],\n",
        "          [1,1]]\n",
        "y_data = [[0],\n",
        "          [1],\n",
        "          [1],\n",
        "          [0]]"
      ],
      "metadata": {
        "id": "HKvnMPzImOet"
      },
      "execution_count": 8,
      "outputs": []
    },
    {
      "cell_type": "code",
      "source": [
        "dataset = tf.data.Dataset.from_tensor_slices((x_data,y_data)).batch(len(x_data))"
      ],
      "metadata": {
        "id": "JqzBAZ_umc87"
      },
      "execution_count": 9,
      "outputs": []
    },
    {
      "cell_type": "code",
      "source": [
        "def preprocess_data(features, labels) :\n",
        "  features = tf.cast(features, tf.float32)\n",
        "  labels = tf.cast(labels, tf.float32)\n",
        "  return features, labels"
      ],
      "metadata": {
        "id": "UwDfJShUmjYY"
      },
      "execution_count": 11,
      "outputs": []
    },
    {
      "cell_type": "code",
      "source": [
        "W1 = tf.Variable(tf.random.normal([2,1]), name = 'weight1')\n",
        "b1 = tf.Variable(tf.random.normal([1]), name = 'bias1')\n",
        "\n",
        "W2 = tf.Variable(tf.random.normal([2,1]), name = 'weight2')\n",
        "b2 = tf.Variable(tf.random.normal([1]), name = 'bias2')\n",
        "\n",
        "W3 = tf.Variable(tf.random.normal([2,1]), name = 'weight3')\n",
        "b3 = tf.Variable(tf.random.normal([1]), name = 'bias3')\n"
      ],
      "metadata": {
        "id": "qhdThOEBmv3m"
      },
      "execution_count": 12,
      "outputs": []
    },
    {
      "cell_type": "code",
      "source": [
        "def neural_net_final(features) :\n",
        "  layer1  = tf.sigmoid(tf.matmul(features,W1) + b1) \n",
        "  layer2 = tf.sigmoid(tf.matmul(features,W2) + b2) \n",
        "  layer3 = tf.concat([layer1,layer2],axis = -1) \n",
        "  layer3 = tf.reshape(layer3, shape = [-1,2])  # -1 : 자동\n",
        "  hypothesis = tf.sigmoid(tf.matmul(layer3, W3) + b3)\n",
        "  return hypothesis"
      ],
      "metadata": {
        "id": "vDqn6Od9nIwr"
      },
      "execution_count": 13,
      "outputs": []
    },
    {
      "cell_type": "code",
      "source": [
        "def loss_fn(hypothesis, labels) :\n",
        "  cost = -tf.reduce_mean(labels * tf.math.log(hypothesis) + (1-labels) * tf.math.log(1 - hypothesis))\n",
        "  return cost"
      ],
      "metadata": {
        "id": "oBgFpZ6Mn3eu"
      },
      "execution_count": 27,
      "outputs": []
    },
    {
      "cell_type": "code",
      "source": [
        "optimizer = tf.keras.optimizers.SGD(learning_rate = 0.01)"
      ],
      "metadata": {
        "id": "Vpr9w-rhoEY9"
      },
      "execution_count": 23,
      "outputs": []
    },
    {
      "cell_type": "code",
      "source": [
        "def accuracy_fn(hypothesis, labels) :\n",
        "  predicted = tf.cast(hypothesis> 0.5, dtype = tf.float32)\n",
        "  accuracy = tf.reduce_mean(tf.cast(tf.equal(predicted, labels), dtype = tf.float32))\n",
        "  return accuracy"
      ],
      "metadata": {
        "id": "15_sofa4oTYp"
      },
      "execution_count": 24,
      "outputs": []
    },
    {
      "cell_type": "code",
      "source": [
        "def grad(features, labels) :\n",
        "  with tf.GradientTape() as tape :\n",
        "    loss_value = loss_fn(neural_net_final(features),labels)\n",
        "  return tape.gradient(loss_value, [W1,W2,W3,b1,b2,b3])"
      ],
      "metadata": {
        "id": "iBK7J4yhomyK"
      },
      "execution_count": 29,
      "outputs": []
    },
    {
      "cell_type": "code",
      "source": [
        "epochs = 10000\n",
        "for step in range(epochs + 1) :\n",
        "  for features, labels in iter(dataset) :\n",
        "    features, labels = preprocess_data(features, labels)\n",
        "    grads = grad(features, labels)\n",
        "    optimizer.apply_gradients(grads_and_vars = zip(grads,[W1,W2,W3,b1,b2,b3]))\n",
        "    if step % 500 == 0 :\n",
        "      print(\"Iter : {}, Loss : {:.4f}\".format(step, loss_fn(neural_net_final(features),labels)))\n",
        "\n"
      ],
      "metadata": {
        "colab": {
          "base_uri": "https://localhost:8080/"
        },
        "id": "7HbgyTWTpAbB",
        "outputId": "176b22af-debe-4e43-9fe1-1d0c2ba9d2fa"
      },
      "execution_count": 34,
      "outputs": [
        {
          "output_type": "stream",
          "name": "stdout",
          "text": [
            "Iter : 0, Loss : 0.6847\n",
            "Iter : 500, Loss : 0.6834\n",
            "Iter : 1000, Loss : 0.6818\n",
            "Iter : 1500, Loss : 0.6801\n",
            "Iter : 2000, Loss : 0.6782\n",
            "Iter : 2500, Loss : 0.6760\n",
            "Iter : 3000, Loss : 0.6735\n",
            "Iter : 3500, Loss : 0.6708\n",
            "Iter : 4000, Loss : 0.6678\n",
            "Iter : 4500, Loss : 0.6645\n",
            "Iter : 5000, Loss : 0.6610\n",
            "Iter : 5500, Loss : 0.6572\n",
            "Iter : 6000, Loss : 0.6531\n",
            "Iter : 6500, Loss : 0.6488\n",
            "Iter : 7000, Loss : 0.6444\n",
            "Iter : 7500, Loss : 0.6397\n",
            "Iter : 8000, Loss : 0.6350\n",
            "Iter : 8500, Loss : 0.6301\n",
            "Iter : 9000, Loss : 0.6252\n",
            "Iter : 9500, Loss : 0.6202\n",
            "Iter : 10000, Loss : 0.6153\n"
          ]
        }
      ]
    },
    {
      "cell_type": "code",
      "source": [
        "x_data, y_data = preprocess_data(x_data, y_data)\n",
        "test_acc = accuracy_fn(neural_net(x_data),y_data)\n",
        "print(test_acc)"
      ],
      "metadata": {
        "colab": {
          "base_uri": "https://localhost:8080/"
        },
        "id": "_2pn2CPCqLvu",
        "outputId": "602627da-b0cb-4e3c-f0f8-8ac928a564e5"
      },
      "execution_count": 35,
      "outputs": [
        {
          "output_type": "stream",
          "name": "stdout",
          "text": [
            "tf.Tensor(0.75, shape=(), dtype=float32)\n"
          ]
        }
      ]
    },
    {
      "cell_type": "code",
      "source": [
        ""
      ],
      "metadata": {
        "id": "qLEwOPtUrPCZ"
      },
      "execution_count": null,
      "outputs": []
    }
  ]
}