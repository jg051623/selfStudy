{
  "nbformat": 4,
  "nbformat_minor": 0,
  "metadata": {
    "colab": {
      "name": "DeepLearning_Lab_11_2.ipynb",
      "provenance": [],
      "authorship_tag": "ABX9TyNDhoNBbLvKvVXB9zQ2C8kc"
    },
    "kernelspec": {
      "name": "python3",
      "display_name": "Python 3"
    },
    "language_info": {
      "name": "python"
    }
  },
  "cells": [
    {
      "cell_type": "code",
      "execution_count": 1,
      "metadata": {
        "id": "10bUbjr5SZKB"
      },
      "outputs": [],
      "source": [
        "## tf.kears functional API"
      ]
    },
    {
      "cell_type": "code",
      "source": [
        "import tensorflow as tf\n",
        "from tensorflow import keras\n",
        "from tensorflow.keras.utils import to_categorical\n",
        "import numpy as np\n",
        "import matplotlib.pyplot as plt\n",
        "import os"
      ],
      "metadata": {
        "id": "04fpQyo8ScL5"
      },
      "execution_count": 2,
      "outputs": []
    },
    {
      "cell_type": "code",
      "source": [
        "## 1. set hyper parameters\n",
        "lr = 0.001\n",
        "training_epochs = 1\n",
        "batch_size = 100\n",
        "\n",
        "# set checkpoint saving directory\n",
        "cur_dir = os.getcwd()\n",
        "ckpt_dir_name = 'checkpoints'\n",
        "model_dir_name = 'mnist_cnn_seq'\n",
        "\n",
        "checkpoint_dir = os.path.join(cur_dir, ckpt_dir_name, model_dir_name)\n",
        "os.makedirs(checkpoint_dir, exist_ok = True)\n",
        "\n",
        "checkpoint_prefix = os.path.join(checkpoint_dir, model_dir_name)"
      ],
      "metadata": {
        "id": "V12LgsfLSeWA"
      },
      "execution_count": 4,
      "outputs": []
    },
    {
      "cell_type": "code",
      "source": [
        "# 2. make a data pipelining\n",
        "\n",
        "mnist = keras.datasets.mnist\n",
        "(train_images, train_labels), (test_images, test_labels) = mnist.load_data()"
      ],
      "metadata": {
        "colab": {
          "base_uri": "https://localhost:8080/"
        },
        "id": "ut-FLcgiTCmG",
        "outputId": "2608d31b-bec5-4d99-8647-d67a8eb7725f"
      },
      "execution_count": 5,
      "outputs": [
        {
          "output_type": "stream",
          "name": "stdout",
          "text": [
            "Downloading data from https://storage.googleapis.com/tensorflow/tf-keras-datasets/mnist.npz\n",
            "11493376/11490434 [==============================] - 0s 0us/step\n",
            "11501568/11490434 [==============================] - 0s 0us/step\n"
          ]
        }
      ]
    },
    {
      "cell_type": "code",
      "source": [
        "train_images = train_images.astype(np.float32) / 255.\n",
        "test_images = test_images.astype(np.float32) / 255.\n",
        "train_images = np.expand_dims(train_images, axis = -1)  # for 4D shape\n",
        "test_images = np.expand_dims(test_images, axis = -1)  # for 4D shape\n",
        "\n",
        "#one hot encoding\n",
        "train_labels = to_categorical(train_labels, 10)\n",
        "test_labels = to_categorical(test_labels, 10)"
      ],
      "metadata": {
        "id": "6nnWLuqKTGSD"
      },
      "execution_count": 6,
      "outputs": []
    },
    {
      "cell_type": "code",
      "source": [
        "train_dataset = tf.data.Dataset.from_tensor_slices((train_images, train_labels)).shuffle(buffer_size = 100000).batch(batch_size)\n",
        "test_dataset = tf.data.Dataset.from_tensor_slices((train_images, train_labels)).batch(batch_size)\n",
        "\n",
        "# shuffle : 고정된 buffer_size만큼 epoch 마다 이미지를 섞어서 오버피팅이 줄도록 도와줌"
      ],
      "metadata": {
        "id": "bnBHtsYQTJUv"
      },
      "execution_count": 7,
      "outputs": []
    },
    {
      "cell_type": "code",
      "source": [
        "# Seqeuntial API 단점\n",
        "# we can't make\n",
        "# 1. Multi-input models\n",
        "# 2. Multi-output models\n",
        "# 3. Models with shared layers(the same layer called several times)\n",
        "# 4. Models with non=sequential data flow(ex. residual connections)"
      ],
      "metadata": {
        "id": "aUxElySicdeq"
      },
      "execution_count": 8,
      "outputs": []
    },
    {
      "cell_type": "code",
      "source": [
        "# 3. build a neural network model using sequential API\n",
        "def create_model() :\n",
        "  inputs = keras.Input(shape=(28,28,1))  # input 선언\n",
        "  conv1 = keras.layers.Conv2D(filters=32, kernel_size = 3, padding='SAME', activation = tf.nn.relu)(inputs)\n",
        "  # conv1 : by __init__ method / (inputs) : by call method\n",
        "  pool1 = keras.layers.MaxPool2D(padding = 'SAME')(conv1)\n",
        "  conv2 = keras.layers.Conv2D(filters=64, kernel_size = 3, padding='SAME', activation = tf.nn.relu)(pool1)\n",
        "  pool2 = keras.layers.MaxPool2D(padding = 'SAME')(conv2)\n",
        "  conv3 = keras.layers.Conv2D(filters=128, kernel_size = 3, padding='SAME', activation = tf.nn.relu)(pool2)\n",
        "  pool3 = keras.layers.MaxPool2D(padding = 'SAME')(conv3)\n",
        "  pool3_flat = keras.layers.Flatten()(pool3)\n",
        "  dense4 = keras.layers.Dense(units=356, activation = tf.nn.relu)(pool3_flat)\n",
        "  drop4 = keras.layers.Dropout(rate=0.4)(dense4)\n",
        "  # drop out : 인풋 데이터에 40%의 노드들을 무작위로 0으로 만드는 드롭아웃을 적용.\n",
        "  logits = keras.layers.Dense(units=10)(drop4)\n",
        "  return keras.Model(inputs = inputs, outputs = logits)\n",
        "\n",
        "model = create_model()\n",
        "model.summary()\n"
      ],
      "metadata": {
        "colab": {
          "base_uri": "https://localhost:8080/"
        },
        "id": "fSn4Z-t1TLbm",
        "outputId": "01b25dbb-9389-44aa-fb49-77d8e4d96b3e"
      },
      "execution_count": 12,
      "outputs": [
        {
          "output_type": "stream",
          "name": "stdout",
          "text": [
            "Model: \"model\"\n",
            "_________________________________________________________________\n",
            " Layer (type)                Output Shape              Param #   \n",
            "=================================================================\n",
            " input_1 (InputLayer)        [(None, 28, 28, 1)]       0         \n",
            "                                                                 \n",
            " conv2d (Conv2D)             (None, 28, 28, 32)        320       \n",
            "                                                                 \n",
            " max_pooling2d (MaxPooling2D  (None, 14, 14, 32)       0         \n",
            " )                                                               \n",
            "                                                                 \n",
            " conv2d_1 (Conv2D)           (None, 14, 14, 64)        18496     \n",
            "                                                                 \n",
            " max_pooling2d_1 (MaxPooling  (None, 7, 7, 64)         0         \n",
            " 2D)                                                             \n",
            "                                                                 \n",
            " conv2d_2 (Conv2D)           (None, 7, 7, 128)         73856     \n",
            "                                                                 \n",
            " max_pooling2d_2 (MaxPooling  (None, 4, 4, 128)        0         \n",
            " 2D)                                                             \n",
            "                                                                 \n",
            " flatten (Flatten)           (None, 2048)              0         \n",
            "                                                                 \n",
            " dense (Dense)               (None, 356)               729444    \n",
            "                                                                 \n",
            " dropout (Dropout)           (None, 356)               0         \n",
            "                                                                 \n",
            " dense_1 (Dense)             (None, 10)                3570      \n",
            "                                                                 \n",
            "=================================================================\n",
            "Total params: 825,686\n",
            "Trainable params: 825,686\n",
            "Non-trainable params: 0\n",
            "_________________________________________________________________\n"
          ]
        }
      ]
    },
    {
      "cell_type": "code",
      "source": [
        "# ### Implementation of REsidual Block ###\n",
        "# inputs = keras.Input(shape=(28,28,256))\n",
        "# conv1 = keras.layers.Conv2D(filters=64, kernel_size=1. padding='SAME', activation = keras.layers.ReLU())(inputs)\n",
        "# conv2 = keras.layers.Conv2D(filters=64, kernel_size=3. padding='SAME', activation = keras.layers.ReLU())(conv1)\n",
        "# conv3 = keras.layers.Conv2D(filters=64, kernel_size=3. padding='SAME')(conv2)  # Relu 뒤에서 적용해야해서 activation funcdtion x\n",
        "# add3 = keras.layers.add([conv3,inputs]) # conv3과 inputs 더하기\n",
        "# relu3 = keras.layers.ReLU()(add3)\n",
        "# model = keras.Model(inputs = inputs, outputs = relu3)"
      ],
      "metadata": {
        "id": "Quju8dXge0OU"
      },
      "execution_count": 13,
      "outputs": []
    },
    {
      "cell_type": "code",
      "source": [
        "# 4,5 define a loss function & calculate a gradient \n",
        "def loss_fn(model, images, labels) :\n",
        "  logits = model(images, training = True) # Dropout 적용됨\n",
        "  loss = tf.reduce_mean(tf.nn.softmax_cross_entropy_with_logits(logits = logits, labels = labels))\n",
        "  return loss\n",
        "\n",
        "\n",
        "def grad(model, image, labels) :\n",
        "  with tf.GradientTape() as tape :\n",
        "    loss = loss_fn(model, images, labels) \n",
        "  return tape.gradient(loss, model.variables) #loss 를 이 모델에 있는 모든 parameter에 대해서 미분한 값을 구해주세요"
      ],
      "metadata": {
        "id": "b7LBvWkRiDaP"
      },
      "execution_count": 14,
      "outputs": []
    },
    {
      "cell_type": "code",
      "source": [
        "# 6. select an optimizer - Adam.. etc\n",
        "# 7. define a metric for model's performance - accuracy etc\n",
        "# 8. (optional) make a checkpoint for saving\n",
        "\n",
        "optimizer = tf.keras.optimizers.Adam(learning_rate = lr)\n",
        "\n",
        "def evaluate(model, images, labels) :\n",
        "  logits = model(images, training=False) # dropout 적용 x\n",
        "  correct_prediction = tf.equal(tf.argmax(logits,1), tf.argmax(labels,1))\n",
        "  accuracy = tf.reduce_mean(tf.cast(correct_prediction, tf.float32))\n",
        "  return accuracy\n",
        "\n",
        "#tf.equal() 함수는 두 값이 동일하면 True, 다르면 False를 반환하는 함수입니다.\n",
        "#tf.cast() 함수는 True/False 형태의 값을 1과 0으로 바꾸어주는 함수입니다.\n",
        "\n",
        "checkpoint = tf.train.Checkpoint(cnn=model)\n"
      ],
      "metadata": {
        "id": "NePZjhE1iI3y"
      },
      "execution_count": 15,
      "outputs": []
    },
    {
      "cell_type": "code",
      "source": [
        "# 9.  train an validate a neural network model\n",
        "\n",
        "for epoch in range(training_epochs) :\n",
        "  avg_loss = 0\n",
        "  avg_train_acc = 0\n",
        "  avg_test_acc = 0\n",
        "  train_step = 0\n",
        "  test_step = 0\n",
        "\n",
        "  for images, labels in train_dataset :\n",
        "    grads = grad(model, images, labels)\n",
        "    optimizer.apply_gradients(zip(grads, model.variables))\n",
        "    loss = loss_fn(model, images, labels)\n",
        "    acc = evaluate(model, images, labels)\n",
        "    avg_loss = avg_loss + loss\n",
        "    avg_train_acc = avg_train_acc + acc\n",
        "    train_step += 1\n",
        "  \n",
        "  avg_loss = avg_loss / train_step\n",
        "  avg_train_acc = avg_train_acc / train_step\n",
        "\n",
        "  for images, labels in test_dataset:        \n",
        "    acc = evaluate(model, images, labels)\n",
        "    avg_test_acc = avg_test_acc + acc\n",
        "    test_step += 1    \n",
        "  avg_test_acc = avg_test_acc / test_step    \n",
        "\n",
        "  print('Epoch:', '{}'.format(epoch + 1), 'loss =', '{:.8f}'.format(avg_loss), \n",
        "        'train accuracy = ', '{:.4f}'.format(avg_train_acc), \n",
        "        'test accuracy = ', '{:.4f}'.format(avg_test_acc))\n",
        "    \n",
        "  checkpoint.save(file_prefix=checkpoint_prefix) # epoch 한번 끝날때마다 모델 저장\n",
        "\n",
        "print('Learning Finished!')"
      ],
      "metadata": {
        "colab": {
          "base_uri": "https://localhost:8080/"
        },
        "id": "gHrusfk4iLF_",
        "outputId": "b4b39828-53ae-42fa-fb3e-c35165797e8b"
      },
      "execution_count": 17,
      "outputs": [
        {
          "output_type": "stream",
          "name": "stdout",
          "text": [
            "Epoch: 1 loss = 0.08083422 train accuracy =  0.9805 test accuracy =  0.9889\n",
            "Learning Finished!\n"
          ]
        }
      ]
    },
    {
      "cell_type": "code",
      "source": [
        ""
      ],
      "metadata": {
        "id": "SGOiXK4-iNrg"
      },
      "execution_count": null,
      "outputs": []
    }
  ]
}