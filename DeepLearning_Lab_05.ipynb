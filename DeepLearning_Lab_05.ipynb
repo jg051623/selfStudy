{
  "nbformat": 4,
  "nbformat_minor": 0,
  "metadata": {
    "colab": {
      "name": "DeepLearning_Lab_05.ipynb",
      "provenance": [],
      "authorship_tag": "ABX9TyOU/bXkMP6PH+/g4ho33a5u"
    },
    "kernelspec": {
      "name": "python3",
      "display_name": "Python 3"
    },
    "language_info": {
      "name": "python"
    }
  },
  "cells": [
    {
      "cell_type": "code",
      "execution_count": 1,
      "metadata": {
        "id": "OscgQOGFmVNY"
      },
      "outputs": [],
      "source": [
        "import tensorflow as tf\n",
        "import numpy as np"
      ]
    },
    {
      "cell_type": "code",
      "source": [
        "# tf.div(x,y) : elementwise operation\n",
        "# tf.cast(\"condition\") : 조건에 따라 true이면 1, false이면 0 반환\n",
        "\n"
      ],
      "metadata": {
        "id": "sZExGGlxmYut"
      },
      "execution_count": null,
      "outputs": []
    },
    {
      "cell_type": "code",
      "source": [
        "x_train = np.array([[1., 2.],\n",
        "                    [2., 3.],\n",
        "                    [3., 1.],\n",
        "                    [4., 3.],\n",
        "                    [5., 3.],\n",
        "                    [6., 2.]], dtype = np.float32)\n",
        "y_train = np.array([[0.],\n",
        "                    [0.],\n",
        "                    [0.],\n",
        "                    [1.],\n",
        "                    [1.],\n",
        "                    [1.]], dtype = np.float32)\n",
        "\n",
        "x_test = np.array([[5., 2.]], dtype=np.float32)\n",
        "y_test = np.array([[1.]], dtype=np.float32)"
      ],
      "metadata": {
        "id": "9gtzmp5N0m6w"
      },
      "execution_count": 4,
      "outputs": []
    },
    {
      "cell_type": "code",
      "source": [
        "# from_tensor_slices: numpy array나 list를 tensor dataset으로 변환\n",
        "dataset = tf.data.Dataset.from_tensor_slices((x_train, y_train)).batch(len(x_train))\n",
        "W = tf.Variable(tf.zeros([2,1]),name = 'weight')\n",
        "b = tf.Variable(tf.zeros([1], name='bias'))\n",
        "\n",
        "def logistic_regression(features) : \n",
        "  hypothesis = tf.sigmoid(tf.matmul(features,W) + b)\n",
        "  return hypothesis\n",
        "\n",
        "def loss_fn(features, labels) :\n",
        "  hypothesis = logistic_regression(features)\n",
        "  cost = -tf.reduce_mean(labels * tf.math.log(hypothesis) + (1 - labels) * tf.math.log(1 - hypothesis))\n",
        "  return cost\n",
        "\n",
        "def grad(hypothesis, features, labels) :\n",
        "  with tf.GradientTape() as tape :\n",
        "    loss_value = loss_fn(features, labels)\n",
        "  return tape.gradient(loss_value, [W,b])\n",
        "\n",
        "optimizer = tf.keras.optimizers.SGD(learning_rate=0.01)\n",
        "\n",
        "epochs = 3000\n",
        "\n",
        "for step in range(epochs+1) :\n",
        "  for features,labels in iter(dataset) :\n",
        "    hypothesis = logistic_regression(features)\n",
        "    grads = grad(hypothesis, features, labels)\n",
        "    optimizer.apply_gradients(grads_and_vars=zip(grads, [W,b]))\n",
        "\n",
        "    if step % 300 == 0 :\n",
        "      print(\"Iter : {}, loss : {:.4f}\".format(step, loss_fn(features,labels)))\n"
      ],
      "metadata": {
        "colab": {
          "base_uri": "https://localhost:8080/"
        },
        "id": "8lgx6IKC1I9m",
        "outputId": "19c7ab2f-3f8b-42f2-a0b3-444e7d68985b"
      },
      "execution_count": 14,
      "outputs": [
        {
          "output_type": "stream",
          "name": "stdout",
          "text": [
            "Iter : 0, loss : 0.6874\n",
            "Iter : 300, loss : 0.5054\n",
            "Iter : 600, loss : 0.4535\n",
            "Iter : 900, loss : 0.4228\n",
            "Iter : 1200, loss : 0.3992\n",
            "Iter : 1500, loss : 0.3790\n",
            "Iter : 1800, loss : 0.3608\n",
            "Iter : 2100, loss : 0.3442\n",
            "Iter : 2400, loss : 0.3288\n",
            "Iter : 2700, loss : 0.3146\n",
            "Iter : 3000, loss : 0.3013\n"
          ]
        }
      ]
    },
    {
      "cell_type": "code",
      "source": [
        "\n",
        "def accuracy_fn(hypothesis, labels) :\n",
        "  predicted = tf.cast(hypothesis > 0.5, dtype = tf.float32)\n",
        "  accuracy = tf.reduce_mean(tf.cast(tf.equal(predicted,labels),dtype = tf.int32))\n",
        "  return accuracy\n",
        "\n",
        "test_acc = accuracy_fn(logistic_regression(x_test),y_test)\n",
        "print('Accuracy : {}%'.format(test_acc*100))"
      ],
      "metadata": {
        "colab": {
          "base_uri": "https://localhost:8080/"
        },
        "id": "eA1VmLYJ7YmA",
        "outputId": "9b85268d-e673-4652-a882-da7eac515136"
      },
      "execution_count": 15,
      "outputs": [
        {
          "output_type": "stream",
          "name": "stdout",
          "text": [
            "Accuracy : 100%\n"
          ]
        }
      ]
    },
    {
      "cell_type": "code",
      "source": [
        "dataset = tf.data.Dataset.from_tensor_slices((x_train, y_train))\n",
        "\n",
        "for d in dataset :\n",
        "  print(d)"
      ],
      "metadata": {
        "colab": {
          "base_uri": "https://localhost:8080/"
        },
        "id": "1BJi6RPR4YAg",
        "outputId": "e7ace76a-fd9a-43b1-8e1d-4ab17531fd9a"
      },
      "execution_count": 7,
      "outputs": [
        {
          "output_type": "stream",
          "name": "stdout",
          "text": [
            "(<tf.Tensor: shape=(2,), dtype=float32, numpy=array([1., 2.], dtype=float32)>, <tf.Tensor: shape=(1,), dtype=float32, numpy=array([0.], dtype=float32)>)\n",
            "(<tf.Tensor: shape=(2,), dtype=float32, numpy=array([2., 3.], dtype=float32)>, <tf.Tensor: shape=(1,), dtype=float32, numpy=array([0.], dtype=float32)>)\n",
            "(<tf.Tensor: shape=(2,), dtype=float32, numpy=array([3., 1.], dtype=float32)>, <tf.Tensor: shape=(1,), dtype=float32, numpy=array([0.], dtype=float32)>)\n",
            "(<tf.Tensor: shape=(2,), dtype=float32, numpy=array([4., 3.], dtype=float32)>, <tf.Tensor: shape=(1,), dtype=float32, numpy=array([1.], dtype=float32)>)\n",
            "(<tf.Tensor: shape=(2,), dtype=float32, numpy=array([5., 3.], dtype=float32)>, <tf.Tensor: shape=(1,), dtype=float32, numpy=array([1.], dtype=float32)>)\n",
            "(<tf.Tensor: shape=(2,), dtype=float32, numpy=array([6., 2.], dtype=float32)>, <tf.Tensor: shape=(1,), dtype=float32, numpy=array([1.], dtype=float32)>)\n"
          ]
        }
      ]
    },
    {
      "cell_type": "code",
      "source": [
        ""
      ],
      "metadata": {
        "id": "INWz2CzL4bPw"
      },
      "execution_count": null,
      "outputs": []
    }
  ]
}