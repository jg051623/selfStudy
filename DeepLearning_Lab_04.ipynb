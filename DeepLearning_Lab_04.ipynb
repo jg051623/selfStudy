{
  "nbformat": 4,
  "nbformat_minor": 0,
  "metadata": {
    "colab": {
      "name": "DeepLearning_Lab_04.ipynb",
      "provenance": [],
      "authorship_tag": "ABX9TyOw0X0/rqpuI4MhDQebFP8E",
      "include_colab_link": true
    },
    "kernelspec": {
      "name": "python3",
      "display_name": "Python 3"
    },
    "language_info": {
      "name": "python"
    }
  },
  "cells": [
    {
      "cell_type": "markdown",
      "metadata": {
        "id": "view-in-github",
        "colab_type": "text"
      },
      "source": [
        "<a href=\"https://colab.research.google.com/github/jg051623/selfStudy/blob/main/DeepLearning_Lab_04.ipynb\" target=\"_parent\"><img src=\"https://colab.research.google.com/assets/colab-badge.svg\" alt=\"Open In Colab\"/></a>"
      ]
    },
    {
      "cell_type": "code",
      "execution_count": 17,
      "metadata": {
        "colab": {
          "base_uri": "https://localhost:8080/"
        },
        "id": "5nyfDmusfto7",
        "outputId": "7c98cec4-43cf-488e-ae29-9fc9ff9a26d4"
      },
      "outputs": [
        {
          "output_type": "stream",
          "name": "stdout",
          "text": [
            "    0  |   175088.1562\n",
            "   50  |     1883.0410\n",
            "  100  |       21.9466\n",
            "  150  |        1.9467\n",
            "  200  |        1.7294\n",
            "  250  |        1.7247\n",
            "  300  |        1.7223\n",
            "  350  |        1.7199\n",
            "  400  |        1.7175\n",
            "  450  |        1.7151\n",
            "  500  |        1.7127\n",
            "  550  |        1.7104\n",
            "  600  |        1.7080\n",
            "  650  |        1.7056\n",
            "  700  |        1.7033\n",
            "  750  |        1.7009\n",
            "  800  |        1.6986\n",
            "  850  |        1.6962\n",
            "  900  |        1.6939\n",
            "  950  |        1.6915\n",
            " 1000  |        1.6892\n"
          ]
        }
      ],
      "source": [
        "import tensorflow as tf\n",
        "import numpy as np\n",
        "\n",
        "x1 = [78., 93., 89., 96., 73.,]\n",
        "x2 = [80., 88., 91., 98., 66.,]\n",
        "x3 = [75., 93., 90., 100., 70.,]\n",
        "Y = [152., 185., 180., 196., 142.,]\n",
        "\n",
        "# weights\n",
        "w1 = tf.Variable(tf.random.normal([1]))\n",
        "w2 = tf.Variable(tf.random.normal([1]))\n",
        "w3 = tf.Variable(tf.random.normal([1]))\n",
        "b = tf.Variable(tf.random.normal([1]))\n",
        "\n",
        "learning_rate = 0.000001\n",
        "\n",
        "for i in range(1001) :\n",
        "  # tf.GradientTape() to record the gradient of the cost function\n",
        "  with tf.GradientTape() as tape :\n",
        "    hypothesis = w1 * x1 + w2 * x2 + w3 * x3 + b\n",
        "    cost = tf.reduce_mean(tf.square(hypothesis - Y))\n",
        "  # calculates the gradients of the cost  \n",
        "  w1_grad, w2_grad, w3_grad, b_grad = tape.gradient(cost,[w1, w2, w3, b])\n",
        "\n",
        "  # update weights\n",
        "  w1.assign_sub(learning_rate * w1_grad)\n",
        "  w2.assign_sub(learning_rate * w2_grad)\n",
        "  w3.assign_sub(learning_rate * w3_grad)\n",
        "  b.assign_sub(learning_rate * b_grad)\n",
        "\n",
        "  if i % 50 == 0 :\n",
        "    print(\"{:5}  |  {:12.4f}\".format(i,cost.numpy()))\n",
        "\n"
      ]
    },
    {
      "cell_type": "code",
      "source": [
        "## using Matrix\n",
        "\n",
        "data = np.array([\n",
        "                 #x1   x2   x3    y\n",
        "                 [73., 80., 75., 152.],\n",
        "                 [93., 88., 93., 185.,],\n",
        "                 [89., 91., 90., 180],\n",
        "                 [73., 66., 70., 142.,]\n",
        "                 ], dtype = np.float32)\n",
        "\n",
        "# slice data\n",
        "X = data[:, :-1]   # 5*3 matrix\n",
        "Y = data[:, [-1]]\n",
        "\n",
        "\n",
        "# , 기준으로 , 앞까지는 row / 뒷 부분은 column\n",
        "# : 처음부터 끝까지 즉, 5행까지 / :-1 : 처음부터 -1 직전 column 까지\n",
        "# [-1] : 마지막 column\n",
        "\n",
        "W = tf.Variable(tf.random.normal([3,1]))\n",
        "b = tf.Variable(tf.random.normal([1]))\n",
        "\n",
        "learning_rate = 0.000001\n",
        "\n",
        "# hypothesis, prediction function\n",
        "def predict(X) :\n",
        "  return tf.matmul(X,W) + b\n",
        "\n",
        "n_epochs = 2000\n",
        "for i in range(n_epochs+1) :\n",
        "  with tf.GradientTape() as tape :\n",
        "    cost = tf.reduce_mean(tf.square(predict(X) - Y))\n",
        "\n",
        "  W_grad,b_grad = tape.gradient(cost,[W, b])\n",
        "\n",
        "  # update weights\n",
        "  W.assign_sub(learning_rate * W_grad)\n",
        "  b.assign_sub(learning_rate * b_grad)\n",
        "\n",
        "  if i % 100 == 0 :\n",
        "    print(\"{:5}  |  {:12.4f}\".format(i,cost.numpy()))\n"
      ],
      "metadata": {
        "colab": {
          "base_uri": "https://localhost:8080/"
        },
        "id": "JsT12o44hnBh",
        "outputId": "a688d1f3-a9d6-4d22-bdb6-d9e5ae022298"
      },
      "execution_count": 32,
      "outputs": [
        {
          "output_type": "stream",
          "name": "stdout",
          "text": [
            "    0  |   113074.3359\n",
            "  100  |       38.9320\n",
            "  200  |       10.5323\n",
            "  300  |       10.4589\n",
            "  400  |       10.3930\n",
            "  500  |       10.3275\n",
            "  600  |       10.2625\n",
            "  700  |       10.1980\n",
            "  800  |       10.1338\n",
            "  900  |       10.0701\n",
            " 1000  |       10.0068\n",
            " 1100  |        9.9440\n",
            " 1200  |        9.8814\n",
            " 1300  |        9.8194\n",
            " 1400  |        9.7577\n",
            " 1500  |        9.6965\n",
            " 1600  |        9.6356\n",
            " 1700  |        9.5752\n",
            " 1800  |        9.5151\n",
            " 1900  |        9.4555\n",
            " 2000  |        9.3962\n"
          ]
        }
      ]
    },
    {
      "cell_type": "code",
      "source": [
        "Y = data[:, -1]   # shape : (4,)"
      ],
      "metadata": {
        "id": "_9y-a9LckOxw"
      },
      "execution_count": 24,
      "outputs": []
    },
    {
      "cell_type": "code",
      "source": [
        "Y.shape"
      ],
      "metadata": {
        "colab": {
          "base_uri": "https://localhost:8080/"
        },
        "id": "6cDa-o5UkTKY",
        "outputId": "322c1f12-87b9-4368-9ae1-95c73618e403"
      },
      "execution_count": 25,
      "outputs": [
        {
          "output_type": "execute_result",
          "data": {
            "text/plain": [
              "(4,)"
            ]
          },
          "metadata": {},
          "execution_count": 25
        }
      ]
    },
    {
      "cell_type": "code",
      "source": [
        "Y = data[:, [-1]] # shape : (4,1)"
      ],
      "metadata": {
        "id": "W-wQ57FtkT14"
      },
      "execution_count": 26,
      "outputs": []
    },
    {
      "cell_type": "code",
      "source": [
        "Y.shape"
      ],
      "metadata": {
        "colab": {
          "base_uri": "https://localhost:8080/"
        },
        "id": "0wAW827-kW-f",
        "outputId": "1126f1b5-b62c-4c71-f31a-c88153ad89ac"
      },
      "execution_count": 27,
      "outputs": [
        {
          "output_type": "execute_result",
          "data": {
            "text/plain": [
              "(4, 1)"
            ]
          },
          "metadata": {},
          "execution_count": 27
        }
      ]
    },
    {
      "cell_type": "code",
      "source": [
        "W_grad.shape"
      ],
      "metadata": {
        "colab": {
          "base_uri": "https://localhost:8080/"
        },
        "id": "Y39XMqcHkXtq",
        "outputId": "aa102490-74af-4c28-d5c0-f6026ba22685"
      },
      "execution_count": 33,
      "outputs": [
        {
          "output_type": "execute_result",
          "data": {
            "text/plain": [
              "TensorShape([3, 1])"
            ]
          },
          "metadata": {},
          "execution_count": 33
        }
      ]
    },
    {
      "cell_type": "code",
      "source": [
        ""
      ],
      "metadata": {
        "id": "168HYJTDqpMU"
      },
      "execution_count": null,
      "outputs": []
    }
  ]
}